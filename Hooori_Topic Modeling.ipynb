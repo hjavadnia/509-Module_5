{
 "cells": [
  {
   "cell_type": "markdown",
   "id": "bce2bb89",
   "metadata": {},
   "source": [
    "## Hoori Javadnia\n"
   ]
  },
  {
   "cell_type": "markdown",
   "id": "0733efb8",
   "metadata": {},
   "source": [
    "\n"
   ]
  },
  {
   "cell_type": "code",
   "execution_count": null,
   "id": "27d1dd4c",
   "metadata": {},
   "outputs": [],
   "source": []
  },
  {
   "cell_type": "code",
   "execution_count": null,
   "id": "8acaa0e7",
   "metadata": {},
   "outputs": [],
   "source": []
  },
  {
   "cell_type": "markdown",
   "id": "5b7b74f1",
   "metadata": {},
   "source": [
    "# ADS 509 Assignment 5.1: Topic Modeling\n",
    "\n",
    "This notebook holds Assignment 5.1 for Module 5 in ADS 509, Applied Text Mining. Work through this notebook, writing code and answering questions where required. \n",
    "\n",
    "In this assignment you will work with a categorical corpus that accompanies `nltk`. You will build the three types of topic models described in Chapter 8 of _Blueprints for Text Analytics using Python_: NMF, LSA, and LDA. You will compare these models to the true categories. \n"
   ]
  },
  {
   "cell_type": "markdown",
   "id": "d87e2c06",
   "metadata": {},
   "source": [
    "## General Assignment Instructions\n",
    "\n",
    "These instructions are included in every assignment, to remind you of the coding standards for the class. Feel free to delete this cell after reading it. \n",
    "\n",
    "One sign of mature code is conforming to a style guide. We recommend the [Google Python Style Guide](https://google.github.io/styleguide/pyguide.html). If you use a different style guide, please include a cell with a link. \n",
    "\n",
    "Your code should be relatively easy-to-read, sensibly commented, and clean. Writing code is a messy process, so please be sure to edit your final submission. Remove any cells that are not needed or parts of cells that contain unnecessary code. Remove inessential `import` statements and make sure that all such statements are moved into the designated cell. \n",
    "\n",
    "Make use of non-code cells for written commentary. These cells should be grammatical and clearly written. In some of these cells you will have questions to answer. The questions will be marked by a \"Q:\" and will have a corresponding \"A:\" spot for you. *Make sure to answer every question marked with a `Q:` for full credit.* \n"
   ]
  },
  {
   "cell_type": "code",
   "execution_count": 1,
   "id": "07c9223e",
   "metadata": {},
   "outputs": [
    {
     "name": "stdout",
     "output_type": "stream",
     "text": [
      "Requirement already satisfied: pyLDAvis in /Users/elyasgoli/anaconda3/lib/python3.10/site-packages (3.4.1)\n",
      "Requirement already satisfied: gensim in /Users/elyasgoli/anaconda3/lib/python3.10/site-packages (from pyLDAvis) (4.3.0)\n",
      "Requirement already satisfied: joblib>=1.2.0 in /Users/elyasgoli/anaconda3/lib/python3.10/site-packages (from pyLDAvis) (1.2.0)\n",
      "Requirement already satisfied: funcy in /Users/elyasgoli/anaconda3/lib/python3.10/site-packages (from pyLDAvis) (2.0)\n",
      "Requirement already satisfied: jinja2 in /Users/elyasgoli/anaconda3/lib/python3.10/site-packages (from pyLDAvis) (3.1.2)\n",
      "Requirement already satisfied: scikit-learn>=1.0.0 in /Users/elyasgoli/anaconda3/lib/python3.10/site-packages (from pyLDAvis) (1.2.1)\n",
      "Requirement already satisfied: scipy in /Users/elyasgoli/anaconda3/lib/python3.10/site-packages (from pyLDAvis) (1.10.0)\n",
      "Requirement already satisfied: numexpr in /Users/elyasgoli/anaconda3/lib/python3.10/site-packages (from pyLDAvis) (2.8.4)\n",
      "Requirement already satisfied: numpy>=1.24.2 in /Users/elyasgoli/anaconda3/lib/python3.10/site-packages (from pyLDAvis) (1.24.3)\n",
      "Requirement already satisfied: pandas>=2.0.0 in /Users/elyasgoli/anaconda3/lib/python3.10/site-packages (from pyLDAvis) (2.0.2)\n",
      "Requirement already satisfied: setuptools in /Users/elyasgoli/anaconda3/lib/python3.10/site-packages (from pyLDAvis) (65.6.3)\n",
      "Requirement already satisfied: pytz>=2020.1 in /Users/elyasgoli/anaconda3/lib/python3.10/site-packages (from pandas>=2.0.0->pyLDAvis) (2022.7)\n",
      "Requirement already satisfied: python-dateutil>=2.8.2 in /Users/elyasgoli/anaconda3/lib/python3.10/site-packages (from pandas>=2.0.0->pyLDAvis) (2.8.2)\n",
      "Requirement already satisfied: tzdata>=2022.1 in /Users/elyasgoli/anaconda3/lib/python3.10/site-packages (from pandas>=2.0.0->pyLDAvis) (2023.3)\n",
      "Requirement already satisfied: threadpoolctl>=2.0.0 in /Users/elyasgoli/anaconda3/lib/python3.10/site-packages (from scikit-learn>=1.0.0->pyLDAvis) (2.2.0)\n",
      "Requirement already satisfied: FuzzyTM>=0.4.0 in /Users/elyasgoli/anaconda3/lib/python3.10/site-packages (from gensim->pyLDAvis) (2.0.5)\n",
      "Requirement already satisfied: smart-open>=1.8.1 in /Users/elyasgoli/anaconda3/lib/python3.10/site-packages (from gensim->pyLDAvis) (5.2.1)\n",
      "Requirement already satisfied: MarkupSafe>=2.0 in /Users/elyasgoli/anaconda3/lib/python3.10/site-packages (from jinja2->pyLDAvis) (2.1.1)\n",
      "Requirement already satisfied: pyfume in /Users/elyasgoli/anaconda3/lib/python3.10/site-packages (from FuzzyTM>=0.4.0->gensim->pyLDAvis) (0.2.25)\n",
      "Requirement already satisfied: six>=1.5 in /Users/elyasgoli/anaconda3/lib/python3.10/site-packages (from python-dateutil>=2.8.2->pandas>=2.0.0->pyLDAvis) (1.16.0)\n",
      "Requirement already satisfied: fst-pso in /Users/elyasgoli/anaconda3/lib/python3.10/site-packages (from pyfume->FuzzyTM>=0.4.0->gensim->pyLDAvis) (1.8.1)\n",
      "Requirement already satisfied: simpful in /Users/elyasgoli/anaconda3/lib/python3.10/site-packages (from pyfume->FuzzyTM>=0.4.0->gensim->pyLDAvis) (2.11.0)\n",
      "Requirement already satisfied: miniful in /Users/elyasgoli/anaconda3/lib/python3.10/site-packages (from fst-pso->pyfume->FuzzyTM>=0.4.0->gensim->pyLDAvis) (0.0.6)\n",
      "Note: you may need to restart the kernel to use updated packages.\n"
     ]
    }
   ],
   "source": [
    "pip install pyLDAvis"
   ]
  },
  {
   "cell_type": "code",
   "execution_count": 2,
   "id": "a85bce08",
   "metadata": {},
   "outputs": [
    {
     "name": "stderr",
     "output_type": "stream",
     "text": [
      "2023-06-12 18:10:17.668254: I tensorflow/core/platform/cpu_feature_guard.cc:193] This TensorFlow binary is optimized with oneAPI Deep Neural Network Library (oneDNN) to use the following CPU instructions in performance-critical operations:  SSE4.1 SSE4.2\n",
      "To enable them in other operations, rebuild TensorFlow with the appropriate compiler flags.\n",
      "/Users/elyasgoli/anaconda3/lib/python3.10/site-packages/tensorflow/python/framework/dtypes.py:246: DeprecationWarning: `np.bool8` is a deprecated alias for `np.bool_`.  (Deprecated NumPy 1.24)\n",
      "  np.bool8: (False, True),\n",
      "/Users/elyasgoli/anaconda3/lib/python3.10/site-packages/flatbuffers/compat.py:19: DeprecationWarning: the imp module is deprecated in favour of importlib and slated for removal in Python 3.12; see the module's documentation for alternative uses\n",
      "  import imp\n",
      "/Users/elyasgoli/anaconda3/lib/python3.10/site-packages/tensorboard/compat/tensorflow_stub/dtypes.py:326: DeprecationWarning: `np.bool8` is a deprecated alias for `np.bool_`.  (Deprecated NumPy 1.24)\n",
      "  np.bool8: (False, True),\n"
     ]
    }
   ],
   "source": [
    "# These libraries may be useful to you\n",
    "\n",
    "#!pip install pyLDAvis==3.4.1 --user  #You need to restart the Kernel after installation.\n",
    "# You also need a Python version => 3.9.0\n",
    "from nltk.corpus import brown\n",
    "\n",
    "import numpy as np\n",
    "import pandas as pd\n",
    "from tqdm.auto import tqdm\n",
    "\n",
    "import pyLDAvis\n",
    "import pyLDAvis.lda_model\n",
    "import pyLDAvis.gensim_models\n",
    "\n",
    "import spacy\n",
    "from sklearn.feature_extraction.text import TfidfVectorizer, CountVectorizer\n",
    "from sklearn.decomposition import NMF, TruncatedSVD, LatentDirichletAllocation\n",
    "\n",
    "from spacy.lang.en.stop_words import STOP_WORDS as stopwords\n",
    "\n",
    "from collections import Counter, defaultdict\n"
   ]
  },
  {
   "cell_type": "code",
   "execution_count": null,
   "id": "b29eb1dc",
   "metadata": {},
   "outputs": [],
   "source": []
  },
  {
   "cell_type": "code",
   "execution_count": 3,
   "id": "039a75f2",
   "metadata": {},
   "outputs": [],
   "source": [
    "nlp = spacy.load('en_core_web_sm')"
   ]
  },
  {
   "cell_type": "code",
   "execution_count": 4,
   "id": "a218df60",
   "metadata": {},
   "outputs": [],
   "source": [
    "import matplotlib\n",
    "import matplotlib.pyplot as plt"
   ]
  },
  {
   "cell_type": "code",
   "execution_count": 5,
   "id": "494de237",
   "metadata": {},
   "outputs": [],
   "source": [
    "# This function comes from the BTAP repo.\n",
    "\n",
    "def display_topics(model, features, no_top_words=5):\n",
    "    for topic, words in enumerate(model.components_):\n",
    "        total = words.sum()\n",
    "        largest = words.argsort()[::-1] # invert sort order\n",
    "        print(\"\\nTopic %02d\" % topic)\n",
    "        for i in range(0, no_top_words):\n",
    "            print(\"  %s (%2.2f)\" % (features[largest[i]], abs(words[largest[i]]*100.0/total)))"
   ]
  },
  {
   "cell_type": "markdown",
   "id": "a30a901c",
   "metadata": {},
   "source": [
    "## Getting to Know the Brown Corpus\n",
    "\n",
    "Let's spend a bit of time getting to know what's in the Brown corpus, our NLTK example of an \"overlapping\" corpus."
   ]
  },
  {
   "cell_type": "code",
   "execution_count": 6,
   "id": "457c59ed",
   "metadata": {},
   "outputs": [
    {
     "name": "stdout",
     "output_type": "stream",
     "text": [
      "For adventure we have 29 articles.\n",
      "For belles_lettres we have 75 articles.\n",
      "For editorial we have 27 articles.\n",
      "For fiction we have 29 articles.\n",
      "For government we have 30 articles.\n",
      "For hobbies we have 36 articles.\n",
      "For humor we have 9 articles.\n",
      "For learned we have 80 articles.\n",
      "For lore we have 48 articles.\n",
      "For mystery we have 24 articles.\n",
      "For news we have 44 articles.\n",
      "For religion we have 17 articles.\n",
      "For reviews we have 17 articles.\n",
      "For romance we have 29 articles.\n",
      "For science_fiction we have 6 articles.\n"
     ]
    },
    {
     "name": "stderr",
     "output_type": "stream",
     "text": [
      "[nltk_data] Downloading package brown to /Users/elyasgoli/nltk_data...\n",
      "[nltk_data]   Package brown is already up-to-date!\n"
     ]
    }
   ],
   "source": [
    "import nltk\n",
    "nltk.download('brown')\n",
    "# categories of articles in Brown corpus\n",
    "for category in brown.categories() :\n",
    "    print(f\"For {category} we have {len(brown.fileids(categories=category))} articles.\")"
   ]
  },
  {
   "cell_type": "markdown",
   "id": "23fb133c",
   "metadata": {},
   "source": [
    "Let's create a dataframe of the articles in of hobbies, editorial, government, news, and romance."
   ]
  },
  {
   "cell_type": "code",
   "execution_count": 7,
   "id": "18f50b9d",
   "metadata": {},
   "outputs": [
    {
     "data": {
      "text/plain": [
       "(166, 3)"
      ]
     },
     "execution_count": 7,
     "metadata": {},
     "output_type": "execute_result"
    }
   ],
   "source": [
    "categories = ['editorial','government','news','romance','hobbies'] \n",
    "\n",
    "category_list = []\n",
    "file_ids = []\n",
    "texts = []\n",
    "\n",
    "for category in categories : \n",
    "    for file_id in brown.fileids(categories=category) :\n",
    "        \n",
    "        # build some lists for a dataframe\n",
    "        category_list.append(category)\n",
    "        file_ids.append(file_id)\n",
    "        \n",
    "        text = brown.words(fileids=file_id)\n",
    "        texts.append(\" \".join(text))\n",
    "\n",
    "        \n",
    "        \n",
    "df = pd.DataFrame()\n",
    "df['category'] = category_list\n",
    "df['id'] = file_ids\n",
    "df['text'] = texts \n",
    "\n",
    "df.shape"
   ]
  },
  {
   "cell_type": "code",
   "execution_count": 8,
   "id": "586f47de",
   "metadata": {},
   "outputs": [],
   "source": [
    "# Let's add some helpful columns on the df\n",
    "df['char_len'] = df['text'].apply(len)\n",
    "df['word_len'] = df['text'].apply(lambda x: len(x.split()))\n"
   ]
  },
  {
   "cell_type": "code",
   "execution_count": 9,
   "id": "2128fd2d",
   "metadata": {},
   "outputs": [
    {
     "data": {
      "text/plain": [
       "<Axes: xlabel='category'>"
      ]
     },
     "execution_count": 9,
     "metadata": {},
     "output_type": "execute_result"
    },
    {
     "data": {
      "image/png": "[encoded data removed]",
      "text/plain": [
       "<Figure size 1000x600 with 1 Axes>"
      ]
     },
     "metadata": {},
     "output_type": "display_data"
    }
   ],
   "source": [
    "%matplotlib inline\n",
    "df.groupby('category').agg({'word_len': 'mean'}).plot.bar(figsize=(10,6))"
   ]
  },
  {
   "cell_type": "markdown",
   "id": "554ffeb5",
   "metadata": {},
   "source": [
    "Now do our TF-IDF and Count vectorizations."
   ]
  },
  {
   "cell_type": "code",
   "execution_count": 10,
   "id": "21a7d247",
   "metadata": {},
   "outputs": [
    {
     "name": "stderr",
     "output_type": "stream",
     "text": [
      "/Users/elyasgoli/anaconda3/lib/python3.10/site-packages/sklearn/feature_extraction/text.py:409: UserWarning: Your stop_words may be inconsistent with your preprocessing. Tokenizing the stop words generated tokens ['ll', 've'] not in stop_words.\n",
      "  warnings.warn(\n"
     ]
    },
    {
     "data": {
      "text/plain": [
       "(166, 4941)"
      ]
     },
     "execution_count": 10,
     "metadata": {},
     "output_type": "execute_result"
    }
   ],
   "source": [
    "count_text_vectorizer = CountVectorizer(stop_words=list(stopwords), min_df=5, max_df=0.7)\n",
    "count_text_vectors = count_text_vectorizer.fit_transform(df[\"text\"])\n",
    "count_text_vectors.shape"
   ]
  },
  {
   "cell_type": "code",
   "execution_count": 11,
   "id": "875deba9",
   "metadata": {},
   "outputs": [
    {
     "data": {
      "text/plain": [
       "(166, 4941)"
      ]
     },
     "execution_count": 11,
     "metadata": {},
     "output_type": "execute_result"
    }
   ],
   "source": [
    "tfidf_text_vectorizer = TfidfVectorizer(stop_words=list(stopwords), min_df=5, max_df=0.7)\n",
    "tfidf_text_vectors = tfidf_text_vectorizer.fit_transform(df['text'])\n",
    "tfidf_text_vectors.shape"
   ]
  },
  {
   "cell_type": "markdown",
   "id": "a1062b21",
   "metadata": {},
   "source": [
    "Q: What do the two data frames `count_text_vectors` and `tfidf_text_vectors` hold? \n",
    "\n",
    "A:The count_text_vectors dataframe is a matrix with token counts for each document after\n",
    "removing stop words. Its shape indicates the number of documents (166) and the total tokens\n",
    "(4,939). The values represent token frequencies in each document.\n",
    "The tfidf_text_vectors dataframe is a sparse matrix of TF-IDF vectors for each document. It\n",
    "assigns weights to tokens based on their frequency and document occurrence."
   ]
  },
  {
   "cell_type": "markdown",
   "id": "f77c3f94",
   "metadata": {},
   "source": [
    "## Fitting a Non-Negative Matrix Factorization Model\n",
    "\n",
    "In this section the code to fit a five-topic NMF model has already been written. This code comes directly from the [BTAP repo](https://github.com/blueprints-for-text-analytics-python/blueprints-text), which will help you tremendously in the coming sections. "
   ]
  },
  {
   "cell_type": "code",
   "execution_count": 12,
   "id": "d28745a3",
   "metadata": {},
   "outputs": [],
   "source": [
    "nmf_text_model = NMF(n_components=5, random_state=314)\n",
    "W_text_matrix = nmf_text_model.fit_transform(tfidf_text_vectors)\n",
    "H_text_matrix = nmf_text_model.components_"
   ]
  },
  {
   "cell_type": "code",
   "execution_count": 13,
   "id": "a67185e7",
   "metadata": {},
   "outputs": [
    {
     "name": "stdout",
     "output_type": "stream",
     "text": [
      "\n",
      "Topic 00\n",
      "  mr (0.51)\n",
      "  president (0.45)\n",
      "  kennedy (0.43)\n",
      "  united (0.42)\n",
      "  khrushchev (0.40)\n",
      "\n",
      "Topic 01\n",
      "  said (0.88)\n",
      "  didn (0.46)\n",
      "  ll (0.45)\n",
      "  thought (0.42)\n",
      "  man (0.37)\n",
      "\n",
      "Topic 02\n",
      "  state (0.39)\n",
      "  development (0.36)\n",
      "  tax (0.33)\n",
      "  sales (0.30)\n",
      "  program (0.25)\n",
      "\n",
      "Topic 03\n",
      "  mrs (2.61)\n",
      "  mr (0.78)\n",
      "  said (0.63)\n",
      "  miss (0.52)\n",
      "  car (0.51)\n",
      "\n",
      "Topic 04\n",
      "  game (1.02)\n",
      "  league (0.74)\n",
      "  ball (0.72)\n",
      "  baseball (0.71)\n",
      "  team (0.66)\n"
     ]
    }
   ],
   "source": [
    "display_topics(nmf_text_model, tfidf_text_vectorizer.get_feature_names_out())"
   ]
  },
  {
   "cell_type": "markdown",
   "id": "fee51e9b",
   "metadata": {},
   "source": [
    "Now some work for you to do. Compare the NMF factorization to the original categories from the Brown Corpus.\n",
    "\n",
    "We are interested in the extent to which our NMF factorization agrees or disagrees with the original categories in the corpus. For each topic in your NMF model, tally the Brown categories and interpret the results. \n"
   ]
  },
  {
   "cell_type": "code",
   "execution_count": 14,
   "id": "7c8c8eb0",
   "metadata": {},
   "outputs": [
    {
     "data": {
      "text/plain": [
       "{0: 32, 1: 41, 2: 65, 3: 18, 4: 10}"
      ]
     },
     "execution_count": 14,
     "metadata": {},
     "output_type": "execute_result"
    }
   ],
   "source": [
    "# Topic index dict \n",
    "# (key = topic index) : (value : np.argmax count)\n",
    "topic_dict = {0 : 0, 1 : 0,\n",
    "              2 : 0, 3: 0,\n",
    "              4: 0}\n",
    "for row in W_text_matrix:\n",
    "    # Find most similar topic to document\n",
    "    topic_idx = np.argmax(row)\n",
    "    # Add 1 count to topic dictionary\n",
    "    topic_dict[topic_idx] += 1\n",
    "\n",
    "topic_dict"
   ]
  },
  {
   "cell_type": "markdown",
   "id": "f8d4e2bc",
   "metadata": {},
   "source": [
    "Q: How does your five-topic NMF model compare to the original Brown categories? \n",
    "\n",
    "A: <!-- Your answer here --> \n",
    "\n",
    "A difference between the NMF-generated topic distribution and the actual distribution of documents per topic in the original corpus. For example, NMF categorizes 41 documents as editorial, while there are only 27 in reality, and it assigns 65 documents as government-related, whereas there are only 30 based on the original distribution.\n",
    "\n"
   ]
  },
  {
   "cell_type": "code",
   "execution_count": 15,
   "id": "7c73059c",
   "metadata": {},
   "outputs": [
    {
     "data": {
      "text/html": [
       "<div>\n",
       "<style scoped>\n",
       "    .dataframe tbody tr th:only-of-type {\n",
       "        vertical-align: middle;\n",
       "    }\n",
       "\n",
       "    .dataframe tbody tr th {\n",
       "        vertical-align: top;\n",
       "    }\n",
       "\n",
       "    .dataframe thead th {\n",
       "        text-align: right;\n",
       "    }\n",
       "</style>\n",
       "<table border=\"1\" class=\"dataframe\">\n",
       "  <thead>\n",
       "    <tr style=\"text-align: right;\">\n",
       "      <th></th>\n",
       "      <th>Editorial</th>\n",
       "      <th>Government</th>\n",
       "      <th>Hobbies</th>\n",
       "      <th>News</th>\n",
       "      <th>Romance</th>\n",
       "    </tr>\n",
       "  </thead>\n",
       "  <tbody>\n",
       "    <tr>\n",
       "      <th>Original Distribution</th>\n",
       "      <td>27</td>\n",
       "      <td>30</td>\n",
       "      <td>36</td>\n",
       "      <td>44</td>\n",
       "      <td>29</td>\n",
       "    </tr>\n",
       "    <tr>\n",
       "      <th>NMF Doc. Count</th>\n",
       "      <td>41</td>\n",
       "      <td>65</td>\n",
       "      <td>10</td>\n",
       "      <td>32</td>\n",
       "      <td>18</td>\n",
       "    </tr>\n",
       "  </tbody>\n",
       "</table>\n",
       "</div>"
      ],
      "text/plain": [
       "                       Editorial  Government  Hobbies  News  Romance\n",
       "Original Distribution         27          30       36    44       29\n",
       "NMF Doc. Count                41          65       10    32       18"
      ]
     },
     "execution_count": 15,
     "metadata": {},
     "output_type": "execute_result"
    }
   ],
   "source": [
    "brown_df = pd.DataFrame(columns = [\"Editorial\", \"Government\",\n",
    "                                   \"Hobbies\", \"News\", \"Romance\"])\n",
    "brown_df.loc[len(brown_df.index)] = [\n",
    "    27, 30, 36, 44, 29\n",
    "]\n",
    "brown_df.loc[len(brown_df.index)] = [\n",
    "    41, 65, 10, 32, 18\n",
    "]\n",
    "\n",
    "brown_df.rename(index = {0:\"Original Distribution\",\n",
    "                         1:\"NMF Doc. Count\"})"
   ]
  },
  {
   "cell_type": "markdown",
   "id": "82e37cb5",
   "metadata": {},
   "source": [
    "## Fitting an LSA Model\n",
    "\n",
    "In this section, follow the example from the repository and fit an LSA model (called a \"TruncatedSVD\" in `sklearn`). Again fit a five-topic model and compare it to the actual categories in the Brown corpus. Use the TF-IDF vectors for your fit, as above. \n",
    "\n",
    "To be explicit, we are once again interested in the extent to which this LSA factorization agrees or disagrees with the original categories in the corpus. For each topic in your model, tally the Brown categories and interpret the results. \n"
   ]
  },
  {
   "cell_type": "code",
   "execution_count": 16,
   "id": "00b53d3d",
   "metadata": {},
   "outputs": [],
   "source": [
    "# LSA Model\n",
    "\n",
    "lsa_model = TruncatedSVD(n_components = 5, random_state = 7)\n",
    "W_lsa_matrix = lsa_model.fit_transform(tfidf_text_vectors)\n",
    "H_lsa_matrix = lsa_model.components_"
   ]
  },
  {
   "cell_type": "code",
   "execution_count": 17,
   "id": "f73c96cf",
   "metadata": {},
   "outputs": [
    {
     "data": {
      "text/plain": [
       "{0: 148, 1: 8, 2: 0, 3: 3, 4: 7}"
      ]
     },
     "execution_count": 17,
     "metadata": {},
     "output_type": "execute_result"
    }
   ],
   "source": [
    "# Topic index dict \n",
    "# (key = topic index) : (value : np.argmax count)\n",
    "topic_dict = {0 : 0, 1 : 0,\n",
    "              2 : 0, 3: 0,\n",
    "              4: 0}\n",
    "for row in W_lsa_matrix:\n",
    "    # Find most similar topic to document\n",
    "    topic_idx = np.argmax(row)\n",
    "    # Add 1 count to topic dictionary\n",
    "    topic_dict[topic_idx] += 1\n",
    "\n",
    "topic_dict"
   ]
  },
  {
   "cell_type": "markdown",
   "id": "4d94d56f",
   "metadata": {},
   "source": [
    "Q: How does your five-topic LSA model compare to the original Brown categories? \n",
    "\n",
    "A: <!-- Your answer here --> \n",
    "The document distribution by topic in the LSA model differs greatly from the original distribution in the Brown corpus. The LSA model shows significant variations in the number of documents for each topic compared to the known distributions.\n",
    "\n"
   ]
  },
  {
   "cell_type": "code",
   "execution_count": 19,
   "id": "377a886e",
   "metadata": {},
   "outputs": [
    {
     "name": "stdout",
     "output_type": "stream",
     "text": [
      "\n",
      "Topic 00\n",
      "  said (0.44)\n",
      "  mr (0.25)\n",
      "  mrs (0.22)\n",
      "  state (0.20)\n",
      "  man (0.17)\n",
      "\n",
      "Topic 01\n",
      "  said (3.89)\n",
      "  ll (2.73)\n",
      "  didn (2.63)\n",
      "  thought (2.20)\n",
      "  got (1.97)\n",
      "\n",
      "Topic 02\n",
      "  mrs (3.17)\n",
      "  mr (1.69)\n",
      "  said (1.06)\n",
      "  kennedy (0.78)\n",
      "  khrushchev (0.76)\n",
      "\n",
      "Topic 03\n",
      "  mrs (27.04)\n",
      "  club (6.03)\n",
      "  game (5.52)\n",
      "  jr (5.17)\n",
      "  university (4.72)\n",
      "\n",
      "Topic 04\n",
      "  game (4.12)\n",
      "  league (2.95)\n",
      "  baseball (2.94)\n",
      "  ball (2.82)\n",
      "  team (2.68)\n"
     ]
    }
   ],
   "source": [
    "# call display_topics on your model\n",
    "display_topics(lsa_model, tfidf_text_vectorizer.get_feature_names_out())"
   ]
  },
  {
   "cell_type": "markdown",
   "id": "ea8b280a",
   "metadata": {},
   "source": [
    "Q: What is your interpretation of the display topics output? \n",
    "\n",
    "A: Topic 0 lacks clarity with slowly decreasing contributions. Topic 1 is not well-defined. In\n",
    "contrast, Topic 2 shows rapid contribution decrease and likely corresponds to News or\n",
    "Government categories. Topic 4, like Topics 0 and 1, lacks clarity. Topic 3 has a strong focus on\n",
    "the word &quot;mrs&quot; compared to other words.\n",
    "\n"
   ]
  },
  {
   "cell_type": "markdown",
   "id": "b4ab4d29",
   "metadata": {},
   "source": [
    "## Fitting an LDA Model\n",
    "\n",
    "Finally, fit a five-topic LDA model using the count vectors (`count_text_vectors` from above). Display the results using `pyLDAvis.display` and describe what you learn from that visualization. "
   ]
  },
  {
   "cell_type": "code",
   "execution_count": 20,
   "id": "802cb8ff",
   "metadata": {},
   "outputs": [],
   "source": [
    "# Fit LDA model\n",
    "lda_model = LatentDirichletAllocation(n_components = 5, random_state = 7)\n",
    "W_lda_matrix = lda_model.fit_transform(count_text_vectors)\n",
    "H_lda_matrix = lda_model.components_"
   ]
  },
  {
   "cell_type": "code",
   "execution_count": 21,
   "id": "ab18adf5",
   "metadata": {},
   "outputs": [
    {
     "name": "stdout",
     "output_type": "stream",
     "text": [
      "\n",
      "Topic 00\n",
      "  use (0.59)\n",
      "  water (0.45)\n",
      "  work (0.38)\n",
      "  good (0.37)\n",
      "  high (0.35)\n",
      "\n",
      "Topic 01\n",
      "  said (1.41)\n",
      "  man (0.58)\n",
      "  old (0.53)\n",
      "  little (0.49)\n",
      "  know (0.43)\n",
      "\n",
      "Topic 02\n",
      "  said (0.65)\n",
      "  state (0.61)\n",
      "  president (0.55)\n",
      "  tax (0.43)\n",
      "  city (0.35)\n",
      "\n",
      "Topic 03\n",
      "  mrs (1.52)\n",
      "  mr (0.53)\n",
      "  clay (0.44)\n",
      "  work (0.39)\n",
      "  student (0.38)\n",
      "\n",
      "Topic 04\n",
      "  state (1.41)\n",
      "  states (1.32)\n",
      "  united (1.23)\n",
      "  government (0.89)\n",
      "  shall (0.71)\n"
     ]
    }
   ],
   "source": [
    "# Call `display_topics` on your fitted model here\n",
    "display_topics(lda_model, tfidf_text_vectorizer.get_feature_names_out())"
   ]
  },
  {
   "cell_type": "code",
   "execution_count": 22,
   "id": "8cf27b33",
   "metadata": {},
   "outputs": [
    {
     "data": {
      "text/plain": [
       "{0: 24, 1: 52, 2: 58, 3: 20, 4: 12}"
      ]
     },
     "execution_count": 22,
     "metadata": {},
     "output_type": "execute_result"
    }
   ],
   "source": [
    "# Topic index dict \n",
    "# (key = topic index) : (value : np.argmax count)\n",
    "topic_dict = {0 : 0, 1 : 0,\n",
    "              2 : 0, 3: 0,\n",
    "              4: 0}\n",
    "for row in W_lda_matrix:\n",
    "    # Find most similar topic to document\n",
    "    topic_idx = np.argmax(row)\n",
    "    # Add 1 count to topic dictionary\n",
    "    topic_dict[topic_idx] += 1\n",
    "\n",
    "topic_dict"
   ]
  },
  {
   "cell_type": "markdown",
   "id": "f2c67876",
   "metadata": {},
   "source": [
    "Q: What inference do you draw from the displayed topics for your LDA model? \n",
    "\n",
    "A: <!-- Your answer here --> \n",
    "The LDA model&#39;s topics show slow decline in contribution values, indicating either vague or lower-\n",
    "quality topics.\n",
    "\n",
    "Q: Repeat the tallying of Brown categories within your topics. How does your five-topic LDA model compare to the original Brown categories? \n",
    "\n",
    "A: <!-- Your answer here --> \n",
    "\n",
    "The LDA model assigned documents to topics, with two topics closely matching categories in terms\n",
    "of document counts. One topic contained too many documents compared to any original category.\n",
    "The LDA model came closest to representing two categories."
   ]
  },
  {
   "cell_type": "code",
   "execution_count": 23,
   "id": "6aae75ca",
   "metadata": {},
   "outputs": [],
   "source": [
    "lda_display = pyLDAvis.lda_model.prepare(\n",
    "    lda_model, count_text_vectors,\n",
    "    count_text_vectorizer,\n",
    "    sort_topics = False\n",
    ")"
   ]
  },
  {
   "cell_type": "code",
   "execution_count": 24,
   "id": "2a89fc15",
   "metadata": {},
   "outputs": [],
   "source": [
    "pyLDAvis.save_html(lda_display, 'lda.html')"
   ]
  },
  {
   "cell_type": "markdown",
   "id": "a3d14c87",
   "metadata": {},
   "source": [
    "Q: What conclusions do you draw from the visualization above? Please address the principal component scatterplot and the salient terms graph.\n",
    "\n",
    "A: <!-- Your answer here --> \n",
    "In above plots, the principal component scatterplot shows that topics 1 and 4 are distinct from the\n",
    "others, while topics 3 and 5 overlap considerably. Topics 2 and 5 have a slight overlap. The salient\n",
    "terms bar chart displays the top 30 frequent terms, indicating overall frequency in blue and topic-\n",
    "specific frequency in red. The rate at which the red portion decreases signifies topic resolution."
   ]
  },
  {
   "cell_type": "code",
   "execution_count": 25,
   "id": "1b2b763e",
   "metadata": {},
   "outputs": [
    {
     "data": {
      "text/html": [
       "\n",
       "<link rel=\"stylesheet\" type=\"text/css\" href=\"https://cdn.jsdelivr.net/gh/bmabey/pyLDAvis@3.4.0/pyLDAvis/js/ldavis.v1.0.0.css\">\n",
       "\n",
       "\n",
       "<div id=\"ldavis_el19491405679285719365161640344\" style=\"background-color:white;\"></div>\n",
       "<script type=\"text/javascript\">\n",
       "\n",
       "var ldavis_el19491405679285719365161640344_data = {\"mdsDat\": {\"x\": [-0.0027259247237004184, 0.20053640287703972, -0.07983930965648128, 0.08293324768125096, -0.20090441617810914], \"y\": [0.17333498052702376, -0.04797490352607275, -0.06303107919718802, -0.026287265660567223, -0.036041732143195865], \"topics\": [1, 2, 3, 4, 5], \"cluster\": [1, 1, 1, 1, 1], \"Freq\": [13.486066412815061, 29.512167002208606, 33.22274090478502, 11.512246248114012, 12.266779432077293]}, \"tinfo\": {\"Term\": [\"mrs\", \"state\", \"states\", \"united\", \"said\", \"government\", \"shall\", \"development\", \"tax\", \"000\", \"use\", \"act\", \"secretary\", \"medical\", \"got\", \"peace\", \"university\", \"went\", \"department\", \"didn\", \"clay\", \"ll\", \"old\", \"policy\", \"program\", \"public\", \"nations\", \"mr\", \"don\", \"military\", \"temperature\", \"heating\", \"wildlife\", \"shelter\", \"battery\", \"apparatus\", \"components\", \"drill\", \"shooting\", \"outdoor\", \"cooling\", \"lever\", \"recreation\", \"forests\", \"site\", \"surfaces\", \"attractions\", \"lengths\", \"experiments\", \"inexpensive\", \"trap\", \"lumber\", \"bars\", \"temperatures\", \"package\", \"flexibility\", \"cycle\", \"builder\", \"forest\", \"fig\", \"roof\", \"frame\", \"missile\", \"super\", \"36\", \"aircraft\", \"interference\", \"fishing\", \"af\", \"boat\", \"protection\", \"stations\", \"vacation\", \"inch\", \"materials\", \"heat\", \"pool\", \"water\", \"use\", \"areas\", \"area\", \"plant\", \"air\", \"cost\", \"cut\", \"high\", \"work\", \"national\", \"good\", \"provide\", \"available\", \"10\", \"000\", \"way\", \"system\", \"development\", \"house\", \"large\", \"number\", \"better\", \"best\", \"god\", \"wasn\", \"walked\", \"rayburn\", \"yes\", \"hair\", \"baby\", \"looked\", \"khrushchev\", \"stopped\", \"hadn\", \"sitting\", \"didn\", \"nice\", \"smiled\", \"pale\", \"feed\", \"talked\", \"surprised\", \"girl\", \"somebody\", \"snow\", \"talk\", \"waited\", \"listening\", \"charlie\", \"rome\", \"cattle\", \"went\", \"loved\", \"got\", \"couldn\", \"knew\", \"wanted\", \"eyes\", \"stood\", \"boy\", \"love\", \"cold\", \"gave\", \"thought\", \"ll\", \"saw\", \"know\", \"mother\", \"old\", \"came\", \"man\", \"took\", \"said\", \"little\", \"asked\", \"left\", \"think\", \"away\", \"going\", \"come\", \"don\", \"young\", \"night\", \"let\", \"way\", \"life\", \"good\", \"people\", \"day\", \"right\", \"mr\", \"home\", \"house\", \"tax\", \"election\", \"motors\", \"republican\", \"sen\", \"trust\", \"textile\", \"democratic\", \"revenues\", \"stockholders\", \"promotion\", \"republicans\", \"musical\", \"filing\", \"farmers\", \"assessment\", \"rural\", \"wages\", \"marketing\", \"trial\", \"selling\", \"audience\", \"boats\", \"governor\", \"commissioner\", \"managers\", \"castro\", \"yankees\", \"voters\", \"missouri\", \"cuba\", \"bonds\", \"statement\", \"eisenhower\", \"vote\", \"property\", \"rhode\", \"district\", \"georgia\", \"anti\", \"labor\", \"administration\", \"conference\", \"sales\", \"president\", \"despite\", \"committee\", \"court\", \"county\", \"fiscal\", \"island\", \"faculty\", \"cent\", \"bill\", \"city\", \"report\", \"texas\", \"department\", \"business\", \"general\", \"state\", \"kennedy\", \"plan\", \"industry\", \"local\", \"board\", \"said\", \"american\", \"000\", \"program\", \"public\", \"government\", \"york\", \"mr\", \"national\", \"states\", \"united\", \"week\", \"home\", \"service\", \"orchestra\", \"artist\", \"orleans\", \"masters\", \"ray\", \"painter\", \"gallery\", \"concerts\", \"curriculum\", \"oriental\", \"ann\", \"texture\", \"artists\", \"library\", \"art\", \"decorations\", \"painted\", \"creative\", \"bridge\", \"convey\", \"clarity\", \"academy\", \"chef\", \"measuring\", \"thickness\", \"designer\", \"arts\", \"entertainment\", \"furniture\", \"contemporary\", \"chamber\", \"clay\", \"signs\", \"foundation\", \"mrs\", \"music\", \"student\", \"player\", \"design\", \"interior\", \"sign\", \"color\", \"golf\", \"club\", \"students\", \"university\", \"catholic\", \"volume\", \"formula\", \"college\", \"miss\", \"members\", \"mr\", \"board\", \"jr\", \"work\", \"men\", \"center\", \"family\", \"place\", \"schools\", \"school\", \"set\", \"home\", \"world\", \"good\", \"congo\", \"rehabilitation\", \"hammarskjold\", \"katanga\", \"thereof\", \"coalition\", \"relating\", \"appropriated\", \"bloc\", \"africa\", \"facility\", \"india\", \"projects\", \"independence\", \"commodities\", \"vehicles\", \"soviets\", \"technicians\", \"demonstrated\", \"agricultural\", \"authorized\", \"shall\", \"overseas\", \"relevant\", \"politicians\", \"testing\", \"greece\", \"consequence\", \"financed\", \"generations\", \"agreement\", \"article\", \"medical\", \"provisions\", \"treasury\", \"nations\", \"export\", \"united\", \"agencies\", \"states\", \"peace\", \"secretary\", \"act\", \"cars\", \"policy\", \"state\", \"government\", \"respect\", \"section\", \"development\", \"editor\", \"congress\", \"brown\", \"services\", \"military\", \"commission\", \"countries\", \"000\", \"public\", \"country\", \"program\", \"use\", \"world\", \"service\", \"1960\", \"department\", \"mr\"], \"Freq\": [297.0, 489.0, 332.0, 300.0, 795.0, 275.0, 125.0, 199.0, 181.0, 281.0, 252.0, 130.0, 121.0, 100.0, 146.0, 108.0, 123.0, 136.0, 158.0, 123.0, 80.0, 165.0, 251.0, 93.0, 231.0, 201.0, 78.0, 384.0, 176.0, 121.0, 34.22915052342607, 20.99162126941175, 16.230987418970845, 55.637324455606375, 12.431207170903875, 9.639085608178238, 20.139842928424237, 30.238360461317445, 30.011224226466123, 18.844023257733934, 33.233022814093886, 14.367134170476197, 32.05112950950736, 14.334117611113697, 46.08974015846485, 5.8567589116569545, 5.826465929943991, 6.593849021519556, 13.154230015222291, 4.888902184741241, 9.586929705542312, 24.729838311366983, 24.64509290294725, 11.872621731173364, 8.69565121469276, 9.45379667675092, 4.7291462745976744, 20.376105577296077, 34.458919521379755, 25.777013235008006, 24.219150774451723, 30.89058286938548, 32.13082114302555, 15.614110754677126, 23.037375800223394, 43.77592147435555, 28.48376111207091, 14.739397406631928, 53.195160176061535, 31.806399894862942, 35.35993887797787, 41.280602339271375, 28.218327173736323, 43.83097309497704, 34.744019087824086, 29.74223028544325, 46.507984944033524, 76.01475885378416, 99.34726404125814, 51.50422716610171, 55.65551266690673, 39.71893801016931, 44.326619539673274, 45.92441728314116, 41.92751235900546, 58.882205855807314, 63.10644966006263, 57.15673079313916, 62.03960248002595, 43.331844907485745, 43.417641671209, 44.246404690414366, 51.64862953061452, 49.47160300799841, 42.790177658826224, 45.61514067054423, 46.59060156497249, 42.408903746789896, 41.387750426762224, 41.87032924190908, 40.92890728603426, 62.083885020111026, 57.251304034175554, 46.61244015525823, 45.640012476881466, 39.84245241468392, 35.009378399759335, 35.00742675628441, 83.22257931488731, 70.8975854724826, 35.90758839791243, 31.14075111421548, 31.135536381114598, 120.74778145937255, 27.26586433410593, 26.305212337996277, 26.304001522885542, 94.89990966256941, 21.46444268633586, 21.45383677766499, 43.775509078943706, 20.49309859332865, 20.482733781277066, 48.42763556681138, 18.567053206773647, 18.565632480461087, 18.563360256297383, 18.560561996756213, 20.412037938743765, 130.5593524912632, 17.60097696188234, 138.85777428391194, 50.941314687827386, 85.20096674754693, 66.8879362921321, 92.2019698845032, 45.77486641512605, 76.9722860526708, 56.371456674891185, 63.193039858416185, 64.40191779499445, 123.00853774607732, 142.89907452916617, 80.54398574388513, 159.06860874141842, 84.78228500023317, 195.94453538462793, 132.23642136866292, 213.37213936169923, 101.15756186649841, 517.3191889883888, 179.81125204004866, 99.82959577881611, 128.72477290856705, 109.51950400536772, 101.9708898317385, 107.7180366062894, 139.56061656475669, 134.42942204946772, 107.43150858314807, 114.58291587838053, 96.5354410477655, 153.77998200637063, 111.5925170871824, 151.3019165014469, 137.32637282453967, 144.97591544495793, 122.7442452091382, 122.12854432452876, 110.50733824637098, 106.01425736097428, 179.2153401142805, 55.101136961642084, 46.28667203406952, 39.394885866081616, 29.61667262740343, 38.13311861903189, 28.531658287153828, 59.67266319876429, 20.791983649767076, 20.79018920397444, 20.786571823987707, 19.806423758956182, 20.691540518254175, 17.848682891014445, 17.848457625929797, 17.84818815397723, 18.785799853262564, 19.717666990656564, 41.29430302151322, 35.63933033621998, 16.86649997892478, 16.846466173279957, 38.3739824181404, 55.19316455888693, 15.886151821834513, 15.882762519669818, 28.971669344273582, 25.20344504093255, 14.90333779684035, 14.90099070857837, 36.20880625701176, 31.576612916870573, 37.018686493826735, 37.66495458252765, 52.43119303518798, 88.84923219128842, 78.04292747129519, 61.127422493884545, 39.570959410471346, 53.65301360618933, 62.4421003470257, 113.65478185369797, 47.58129959589881, 101.13002583030635, 228.19960905501378, 30.94790671850798, 91.95305501182365, 90.37636119782626, 85.98973258315726, 90.51918952396304, 95.65935783279163, 47.67212668768222, 63.96119129353234, 75.91152319616862, 144.90203882493915, 72.15641657249786, 51.59908995793069, 110.39551805785881, 136.39883998024504, 131.28452724853375, 250.6054268507833, 94.30904106960966, 87.36301946621025, 74.5824406363476, 90.99568513178467, 108.35596224204346, 270.7043019740779, 131.9175404373201, 133.48018685028475, 119.52440656316108, 108.77405603031825, 125.1764761355087, 89.73905867246937, 137.90291641465006, 101.21980208587797, 118.47035702634679, 102.21966340019789, 91.30956392065767, 92.95432233752123, 90.30070677499103, 19.83579202703194, 16.09908229297577, 16.095545659416313, 11.415901853279566, 10.438798478879763, 10.408075133547452, 19.82754406378182, 7.6738972336539195, 7.668255541850662, 7.646998535419603, 8.493735545731756, 6.73573859566386, 14.197594738567727, 39.97425741916319, 50.639524460689, 5.802052132657759, 14.84722018158564, 13.80162117412385, 43.69783804244478, 4.819469059890468, 7.962975354695502, 12.72935360562948, 5.536460978119214, 14.177240256720738, 11.809490813795312, 14.993767769838001, 19.476217128242418, 13.194514628786905, 16.30859940128626, 14.664486146274893, 22.41578756410856, 62.87981889868002, 28.83315428919908, 26.527661960783412, 218.34085023344437, 46.29647217538104, 54.77268370826403, 34.09621488316959, 50.15544248257594, 29.01543716890054, 37.48242080505042, 40.065734974720534, 19.775826225417468, 53.6577942695367, 36.87396321403784, 52.029163967836276, 20.966662230936297, 25.69977976403954, 23.086917065467745, 46.43845127502615, 40.10269223425888, 47.2106988932642, 76.60510487467012, 48.932123997909294, 30.432553124694515, 56.36993090721914, 46.72936710575422, 32.571914002504506, 36.56466108655525, 41.75990819760591, 32.089303773459065, 36.32617753150156, 32.20284046582157, 33.42722425387931, 33.28250152496669, 33.33042569133196, 41.643446041952416, 18.086605122057083, 12.415931568234095, 18.62512789498016, 11.492326001936666, 9.60174753904984, 9.588026129970673, 7.725052951652861, 7.716298906910608, 16.172858494515996, 7.656992575932291, 33.07396932256994, 47.38912888757971, 25.38677959729448, 15.216062665212254, 37.950114310429434, 5.8368395939050135, 5.826917445997899, 6.605542224729671, 21.352752108526403, 26.301000327922786, 109.21952974796176, 10.500163054910644, 7.236501865236183, 6.42528321915428, 19.240662230642794, 5.5702806214835165, 5.54904680597409, 10.21821518561791, 9.36283448805512, 53.56188416232398, 33.17769371627801, 78.01158630005122, 19.03945167342706, 21.73907522485674, 56.03055121547234, 18.014137346547493, 187.806841265674, 32.92432626545832, 201.61019154395197, 71.56211208077247, 76.55160788388018, 79.48859526122867, 44.087490924977, 57.32958237859977, 216.11131753821812, 135.50762859792522, 32.52790815717756, 48.79273673142561, 92.53937889549023, 33.2536360270023, 46.96349701768418, 51.42955582704783, 48.87261983723518, 56.72711421136799, 40.97002365594441, 45.1950746265866, 82.68133169833847, 65.59843399155878, 52.90636314163783, 61.005153511198486, 61.128601935062036, 57.553336703583895, 51.12240291396799, 44.57262445048151, 45.09198961379137, 45.22311207977001], \"Total\": [297.0, 489.0, 332.0, 300.0, 795.0, 275.0, 125.0, 199.0, 181.0, 281.0, 252.0, 130.0, 121.0, 100.0, 146.0, 108.0, 123.0, 136.0, 158.0, 123.0, 80.0, 165.0, 251.0, 93.0, 231.0, 201.0, 78.0, 384.0, 176.0, 121.0, 34.999654049065846, 21.759823915956108, 17.031953795476372, 58.724251351804035, 13.24939205728708, 10.41141527317736, 21.7863101129911, 33.14221822557769, 33.09070093311369, 20.836513106232395, 36.956559939402595, 16.120955708569294, 36.0295185953131, 16.121874168212436, 52.07300017047034, 6.628678569415319, 6.6298444214204695, 7.572164569386548, 15.168866400598594, 5.682678078698488, 11.34823628946992, 29.41509005504623, 29.395191067869494, 14.178599363371825, 10.43290333508244, 11.353214406627533, 5.6811838932443015, 24.584764945106947, 41.652591996089264, 31.232566349287556, 29.421943075464746, 37.97442911456098, 39.98149371521692, 19.016898093269695, 28.549292596064333, 56.22278568265529, 36.18884783217953, 17.98618508084479, 73.62069059376134, 41.86065911140126, 47.59938997407799, 58.748927334118065, 38.014988531607834, 67.18520307451304, 51.32286849736948, 41.85486594132799, 76.6864749117764, 161.08576485543125, 252.86359740884023, 99.77194284288527, 145.41703005735323, 80.41585258661603, 101.33033702222207, 116.06358177321016, 96.51473352599079, 218.20614485493445, 257.6059455079676, 214.38057953223063, 305.74702181691845, 113.9755537103491, 119.59694196714008, 146.23201343468082, 281.52258552770627, 273.1660949680668, 142.27728571671582, 199.37408349706354, 231.60654832053888, 142.85684262134143, 136.98754140569204, 158.6087431956477, 137.88023730581207, 62.85182298909589, 58.016072295390494, 47.377377039323804, 46.41027402870545, 40.60737966310709, 35.77168161305188, 35.77164808190218, 85.07153316485844, 72.50123482618659, 36.739749431708844, 31.903085650501566, 31.90310849654701, 123.77858007005301, 28.034419718694625, 27.067364843882572, 27.06732017621514, 97.6623281128002, 22.231580188834666, 22.231756699515262, 45.414934238865655, 21.26435282059735, 21.264147219174355, 50.29183243711576, 19.330192920430928, 19.33014359479098, 19.330091230409586, 19.33001673643052, 21.261961085625547, 136.21181988331932, 18.363049156462058, 146.07607045647498, 53.20109640145836, 89.98744132443046, 70.51631105767432, 97.53121523627875, 48.28696811523013, 82.1187392981056, 59.86040098329709, 67.5994465315007, 69.50888832646498, 139.33893733173454, 165.87057688736886, 89.73621182172393, 190.3350225210603, 96.34508346293288, 251.59365908060062, 161.15602085656536, 280.6110799367706, 119.86811399525169, 795.6314731783731, 236.07069092621782, 118.17803799417933, 160.98921940653693, 133.28623043855114, 122.68318526077925, 132.4390646700576, 184.6103026770502, 176.1375149764414, 134.61350697188004, 150.60965935361475, 121.46215133036861, 273.1660949680668, 160.5784227779151, 305.74702181691845, 264.6266476753767, 301.7340052673763, 212.80697285475102, 384.9810616035766, 265.4860291277974, 231.60654832053888, 181.3634689645506, 55.87835348264927, 47.05142339655481, 40.18563348109817, 30.378105214591805, 39.20088302352177, 29.393546219428085, 61.71451070184245, 21.55103135272031, 21.550973396064105, 21.55084129037635, 20.570148860045546, 21.547325276082688, 18.60863415028234, 18.608620396467348, 18.60860324020961, 19.58807912106353, 20.566896450153493, 43.08623156953816, 37.23166075931835, 17.627785655271285, 17.627048065080167, 40.171140173733036, 57.813851394790625, 16.647020326617035, 16.64692079441976, 30.368681819627948, 26.432756246150323, 15.666172823930768, 15.666065306212326, 38.20671946635722, 33.27591993221567, 39.18532661984806, 40.12281507968514, 56.754492944212636, 97.78236595863163, 87.90095729913831, 68.36611412496427, 43.089429957111186, 59.68176102218165, 70.36768241006425, 134.53734299819803, 52.75747562058492, 119.96774029798586, 298.43898223484643, 33.25927047579937, 110.96552539534525, 109.18138698764518, 105.2711887240488, 112.86290450344951, 121.77515621293378, 53.68650884229182, 76.20672211009379, 93.76720880459058, 215.85232055022695, 90.52636122819425, 59.470094418073224, 158.88257048010334, 212.33839572668137, 202.18462103241214, 489.53615580688404, 131.82070762616246, 121.40071276798383, 98.05489102999061, 130.78074415588324, 175.62516119854388, 795.6314731783731, 263.06163612912417, 281.52258552770627, 231.84412466349858, 201.2634194277543, 275.6352681962105, 147.2452622085947, 384.9810616035766, 214.38057953223063, 332.7749296158254, 300.1006217419114, 188.94610183984824, 265.4860291277974, 205.55848071535638, 20.615417814118626, 16.87016181595005, 16.870276617344057, 12.189203066349434, 11.254881460367217, 11.255319626325125, 21.560882996361862, 8.444237625286224, 8.444289450032095, 8.444517453454676, 9.385993502221792, 7.508035163370628, 15.940847854472262, 45.05164068435936, 57.319612494808524, 6.571775872191754, 16.911477317636436, 15.998734644398445, 50.707660211730996, 5.6377510381162725, 9.411181877229353, 15.068910038701105, 6.574477416336313, 16.88959457008969, 14.076442817026397, 17.903340820388262, 23.521338340923954, 15.954721396738174, 19.764729269961503, 17.830723991758447, 27.358047525873697, 80.0768403485055, 35.82165207877629, 32.86330325977035, 297.4573709735712, 60.40775424499468, 72.74312310556314, 47.255782853645755, 74.57247484590627, 40.40968865826062, 56.88988873618027, 62.525075978277044, 26.430635251373364, 109.59488811512979, 70.61762255567385, 123.95207639565773, 31.26822574917016, 43.71632075417098, 36.804775047184066, 123.89801985286338, 97.4315496376115, 140.36042407964453, 384.9810616035766, 175.62516119854388, 67.18823448275926, 257.6059455079676, 191.8840864060576, 92.68238042622005, 128.87857703575594, 188.90575201420788, 91.19655844623786, 172.00314385477768, 167.7852317329594, 265.4860291277974, 253.60344333284542, 305.74702181691845, 42.4141228499148, 18.857501419688198, 13.204451986091195, 19.81050241245894, 12.261662077917643, 10.377407012213592, 10.377758662631143, 8.492552297159108, 8.4928986405448, 17.909437710777976, 8.495180951261323, 36.79381318642112, 52.891017996800585, 28.36692560625251, 17.013400603711784, 42.486400003083965, 6.608154244755005, 6.608534165965539, 7.554933339044307, 24.591825322182327, 30.291171968383665, 125.81079000530711, 12.267995230607415, 8.505530180815498, 7.559874096627442, 22.64287184198115, 6.607617001716889, 6.608864049472699, 12.266446335316688, 11.323832427471046, 65.41712084937285, 40.72701767193696, 100.06515284697667, 23.692205557925334, 27.535279673313106, 78.0524440224418, 22.754891412724643, 300.1006217419114, 44.359329639900665, 332.7749296158254, 108.46671797281644, 121.17448128057458, 130.76568950092735, 66.5294798581588, 93.68167914385938, 489.53615580688404, 275.6352681962105, 47.59623837211863, 82.66276765283021, 199.37408349706354, 51.24840588591279, 85.18898336250061, 97.4400259182168, 94.87654350466255, 121.70908744620944, 71.75133579934828, 84.34491747212073, 281.52258552770627, 201.2634194277543, 143.36197320221532, 231.84412466349858, 252.86359740884023, 253.60344333284542, 205.55848071535638, 130.2434502599179, 158.88257048010334, 384.9810616035766], \"Category\": [\"Default\", \"Default\", \"Default\", \"Default\", \"Default\", \"Default\", \"Default\", \"Default\", \"Default\", \"Default\", \"Default\", \"Default\", \"Default\", \"Default\", \"Default\", \"Default\", \"Default\", \"Default\", \"Default\", \"Default\", \"Default\", \"Default\", \"Default\", \"Default\", \"Default\", \"Default\", \"Default\", \"Default\", \"Default\", \"Default\", \"Topic1\", \"Topic1\", \"Topic1\", \"Topic1\", \"Topic1\", \"Topic1\", \"Topic1\", \"Topic1\", \"Topic1\", \"Topic1\", \"Topic1\", \"Topic1\", \"Topic1\", \"Topic1\", \"Topic1\", \"Topic1\", \"Topic1\", \"Topic1\", \"Topic1\", \"Topic1\", \"Topic1\", \"Topic1\", \"Topic1\", \"Topic1\", \"Topic1\", \"Topic1\", \"Topic1\", \"Topic1\", \"Topic1\", \"Topic1\", \"Topic1\", \"Topic1\", \"Topic1\", \"Topic1\", \"Topic1\", \"Topic1\", \"Topic1\", \"Topic1\", \"Topic1\", \"Topic1\", \"Topic1\", \"Topic1\", \"Topic1\", \"Topic1\", \"Topic1\", \"Topic1\", \"Topic1\", \"Topic1\", \"Topic1\", \"Topic1\", \"Topic1\", \"Topic1\", \"Topic1\", \"Topic1\", \"Topic1\", \"Topic1\", \"Topic1\", \"Topic1\", \"Topic1\", \"Topic1\", \"Topic1\", \"Topic1\", \"Topic1\", \"Topic1\", \"Topic1\", \"Topic1\", \"Topic1\", \"Topic1\", \"Topic1\", \"Topic1\", \"Topic1\", \"Topic2\", \"Topic2\", \"Topic2\", \"Topic2\", \"Topic2\", \"Topic2\", \"Topic2\", \"Topic2\", \"Topic2\", \"Topic2\", \"Topic2\", \"Topic2\", \"Topic2\", \"Topic2\", \"Topic2\", \"Topic2\", \"Topic2\", \"Topic2\", \"Topic2\", \"Topic2\", \"Topic2\", \"Topic2\", \"Topic2\", \"Topic2\", \"Topic2\", \"Topic2\", \"Topic2\", \"Topic2\", \"Topic2\", \"Topic2\", \"Topic2\", \"Topic2\", \"Topic2\", \"Topic2\", \"Topic2\", \"Topic2\", \"Topic2\", \"Topic2\", \"Topic2\", \"Topic2\", \"Topic2\", \"Topic2\", \"Topic2\", \"Topic2\", \"Topic2\", \"Topic2\", \"Topic2\", \"Topic2\", \"Topic2\", \"Topic2\", \"Topic2\", \"Topic2\", \"Topic2\", \"Topic2\", \"Topic2\", \"Topic2\", \"Topic2\", \"Topic2\", \"Topic2\", \"Topic2\", \"Topic2\", \"Topic2\", \"Topic2\", \"Topic2\", \"Topic2\", \"Topic2\", \"Topic2\", \"Topic2\", \"Topic2\", \"Topic2\", \"Topic3\", \"Topic3\", \"Topic3\", \"Topic3\", \"Topic3\", \"Topic3\", \"Topic3\", \"Topic3\", \"Topic3\", \"Topic3\", \"Topic3\", \"Topic3\", \"Topic3\", \"Topic3\", \"Topic3\", \"Topic3\", \"Topic3\", \"Topic3\", \"Topic3\", \"Topic3\", \"Topic3\", \"Topic3\", \"Topic3\", \"Topic3\", \"Topic3\", \"Topic3\", \"Topic3\", \"Topic3\", \"Topic3\", \"Topic3\", \"Topic3\", \"Topic3\", \"Topic3\", \"Topic3\", \"Topic3\", \"Topic3\", \"Topic3\", \"Topic3\", \"Topic3\", \"Topic3\", \"Topic3\", \"Topic3\", \"Topic3\", \"Topic3\", \"Topic3\", \"Topic3\", \"Topic3\", \"Topic3\", \"Topic3\", \"Topic3\", \"Topic3\", \"Topic3\", \"Topic3\", \"Topic3\", \"Topic3\", \"Topic3\", \"Topic3\", \"Topic3\", \"Topic3\", \"Topic3\", \"Topic3\", \"Topic3\", \"Topic3\", \"Topic3\", \"Topic3\", \"Topic3\", \"Topic3\", \"Topic3\", \"Topic3\", \"Topic3\", \"Topic3\", \"Topic3\", \"Topic3\", \"Topic3\", \"Topic3\", \"Topic3\", \"Topic3\", \"Topic3\", \"Topic3\", \"Topic3\", \"Topic4\", \"Topic4\", \"Topic4\", \"Topic4\", \"Topic4\", \"Topic4\", \"Topic4\", \"Topic4\", \"Topic4\", \"Topic4\", \"Topic4\", \"Topic4\", \"Topic4\", \"Topic4\", \"Topic4\", \"Topic4\", \"Topic4\", \"Topic4\", \"Topic4\", \"Topic4\", \"Topic4\", \"Topic4\", \"Topic4\", \"Topic4\", \"Topic4\", \"Topic4\", \"Topic4\", \"Topic4\", \"Topic4\", \"Topic4\", \"Topic4\", \"Topic4\", \"Topic4\", \"Topic4\", \"Topic4\", \"Topic4\", \"Topic4\", \"Topic4\", \"Topic4\", \"Topic4\", \"Topic4\", \"Topic4\", \"Topic4\", \"Topic4\", \"Topic4\", \"Topic4\", \"Topic4\", \"Topic4\", \"Topic4\", \"Topic4\", \"Topic4\", \"Topic4\", \"Topic4\", \"Topic4\", \"Topic4\", \"Topic4\", \"Topic4\", \"Topic4\", \"Topic4\", \"Topic4\", \"Topic4\", \"Topic4\", \"Topic4\", \"Topic4\", \"Topic4\", \"Topic4\", \"Topic5\", \"Topic5\", \"Topic5\", \"Topic5\", \"Topic5\", \"Topic5\", \"Topic5\", \"Topic5\", \"Topic5\", \"Topic5\", \"Topic5\", \"Topic5\", \"Topic5\", \"Topic5\", \"Topic5\", \"Topic5\", \"Topic5\", \"Topic5\", \"Topic5\", \"Topic5\", \"Topic5\", \"Topic5\", \"Topic5\", \"Topic5\", \"Topic5\", \"Topic5\", \"Topic5\", \"Topic5\", \"Topic5\", \"Topic5\", \"Topic5\", \"Topic5\", \"Topic5\", \"Topic5\", \"Topic5\", \"Topic5\", \"Topic5\", \"Topic5\", \"Topic5\", \"Topic5\", \"Topic5\", \"Topic5\", \"Topic5\", \"Topic5\", \"Topic5\", \"Topic5\", \"Topic5\", \"Topic5\", \"Topic5\", \"Topic5\", \"Topic5\", \"Topic5\", \"Topic5\", \"Topic5\", \"Topic5\", \"Topic5\", \"Topic5\", \"Topic5\", \"Topic5\", \"Topic5\", \"Topic5\", \"Topic5\", \"Topic5\", \"Topic5\", \"Topic5\", \"Topic5\", \"Topic5\"], \"logprob\": [30.0, 29.0, 28.0, 27.0, 26.0, 25.0, 24.0, 23.0, 22.0, 21.0, 20.0, 19.0, 18.0, 17.0, 16.0, 15.0, 14.0, 13.0, 12.0, 11.0, 10.0, 9.0, 8.0, 7.0, 6.0, 5.0, 4.0, 3.0, 2.0, 1.0, -6.1968, -6.6857, -6.9429, -5.711, -7.2096, -7.464, -6.7271, -6.3207, -6.3283, -6.7937, -6.2263, -7.0649, -6.2625, -7.0672, -5.8993, -7.9623, -7.9674, -7.8437, -7.1531, -8.1429, -7.4694, -6.5218, -6.5253, -7.2556, -7.567, -7.4834, -8.1761, -6.7155, -6.1901, -6.4804, -6.5427, -6.2994, -6.26, -6.9817, -6.5927, -5.9508, -6.3805, -7.0393, -5.7559, -6.2702, -6.1643, -6.0095, -6.3899, -5.9495, -6.1818, -6.3373, -5.8902, -5.3989, -5.1312, -5.7882, -5.7107, -6.048, -5.9383, -5.9029, -5.9939, -5.6543, -5.585, -5.6841, -5.6021, -5.961, -5.959, -5.9401, -5.7854, -5.8284, -5.9735, -5.9096, -5.8884, -5.9825, -6.0069, -5.9953, -6.018, -6.3845, -6.4655, -6.6711, -6.6922, -6.8281, -6.9574, -6.9574, -6.0915, -6.2518, -6.932, -7.0745, -7.0746, -5.7193, -7.2074, -7.2432, -7.2433, -5.9602, -7.4466, -7.4471, -6.7339, -7.4929, -7.4934, -6.6329, -7.5916, -7.5917, -7.5918, -7.592, -7.4969, -5.6412, -7.645, -5.5795, -6.5823, -6.068, -6.31, -5.989, -6.6893, -6.1695, -6.481, -6.3668, -6.3479, -5.7007, -5.5509, -6.1242, -5.4437, -6.0729, -5.2352, -5.6284, -5.15, -5.8963, -4.2643, -5.3211, -5.9095, -5.6553, -5.8169, -5.8883, -5.8335, -5.5745, -5.612, -5.8361, -5.7717, -5.9431, -5.4775, -5.7981, -5.4937, -5.5906, -5.5364, -5.7029, -5.7079, -5.8079, -5.8494, -5.4428, -6.6223, -6.7966, -6.9578, -7.2431, -6.9903, -7.2804, -6.5426, -7.5969, -7.5969, -7.5971, -7.6454, -7.6017, -7.7495, -7.7495, -7.7495, -7.6983, -7.6499, -6.9107, -7.058, -7.8061, -7.8073, -6.984, -6.6206, -7.866, -7.8662, -7.2651, -7.4044, -7.9298, -7.93, -7.0421, -7.179, -7.02, -7.0027, -6.6719, -6.1445, -6.2742, -6.5185, -6.9533, -6.6489, -6.4972, -5.8983, -6.769, -6.015, -5.2012, -7.1991, -6.1101, -6.1274, -6.1772, -6.1259, -6.0706, -6.7671, -6.4731, -6.3019, -5.6554, -6.3526, -6.6879, -5.9274, -5.7158, -5.7541, -5.1075, -6.0848, -6.1614, -6.3195, -6.1206, -5.946, -5.0304, -5.7492, -5.7375, -5.8479, -5.9422, -5.8017, -6.1345, -5.7049, -6.0141, -5.8568, -6.0043, -6.1172, -6.0993, -6.1283, -6.5841, -6.7928, -6.7931, -7.1366, -7.2261, -7.229, -6.5845, -7.5338, -7.5345, -7.5373, -7.4323, -7.6642, -6.9185, -5.8834, -5.6469, -7.8134, -6.8738, -6.9468, -5.7943, -7.9989, -7.4968, -7.0277, -7.8602, -6.92, -7.1027, -6.864, -6.6024, -6.9918, -6.7799, -6.8862, -6.4618, -5.4304, -6.2101, -6.2934, -4.1855, -5.7365, -5.5684, -6.0424, -5.6565, -6.2038, -5.9477, -5.8811, -6.5871, -5.589, -5.9641, -5.6198, -6.5287, -6.3251, -6.4323, -5.7335, -5.8802, -5.717, -5.2329, -5.6812, -6.1561, -5.5397, -5.7272, -6.0882, -5.9725, -5.8397, -6.1031, -5.9791, -6.0995, -6.0622, -6.0666, -6.0651, -5.9059, -6.7399, -7.1161, -6.7106, -7.1934, -7.3731, -7.3746, -7.5906, -7.5918, -6.8518, -7.5995, -6.1363, -5.7767, -6.4009, -6.9127, -5.9988, -7.8709, -7.8726, -7.7472, -6.5739, -6.3655, -4.9417, -7.2837, -7.6559, -7.7748, -6.6781, -7.9176, -7.9215, -7.3109, -7.3983, -5.6542, -6.1332, -5.2782, -6.6886, -6.556, -5.6092, -6.7439, -4.3997, -6.1409, -4.3287, -5.3645, -5.2971, -5.2595, -5.8489, -5.5863, -4.2593, -4.7261, -6.153, -5.7475, -5.1075, -6.1309, -5.7857, -5.6949, -5.7459, -5.5968, -5.9222, -5.8241, -5.2201, -5.4515, -5.6666, -5.5241, -5.5221, -5.5824, -5.7009, -5.838, -5.8264, -5.8235], \"loglift\": [30.0, 29.0, 28.0, 27.0, 26.0, 25.0, 24.0, 23.0, 22.0, 21.0, 20.0, 19.0, 18.0, 17.0, 16.0, 15.0, 14.0, 13.0, 12.0, 11.0, 10.0, 9.0, 8.0, 7.0, 6.0, 5.0, 4.0, 3.0, 2.0, 1.0, 1.9813, 1.9676, 1.9553, 1.9495, 1.9398, 1.9264, 1.9249, 1.9118, 1.9058, 1.903, 1.8973, 1.8883, 1.8865, 1.886, 1.8815, 1.8797, 1.8743, 1.8652, 1.861, 1.8531, 1.8349, 1.83, 1.8273, 1.826, 1.8214, 1.8204, 1.8201, 1.8157, 1.8139, 1.8115, 1.8089, 1.7971, 1.7849, 1.8064, 1.789, 1.7533, 1.7641, 1.8044, 1.6786, 1.7288, 1.7063, 1.6506, 1.7055, 1.5764, 1.6134, 1.6619, 1.5034, 1.2525, 1.0693, 1.3423, 1.0431, 1.2981, 1.1767, 1.0764, 1.1698, 0.6936, 0.5969, 0.6816, 0.4085, 1.0364, 0.9903, 0.8081, 0.3078, 0.2948, 0.802, 0.5286, 0.3999, 0.789, 0.8066, 0.6717, 0.789, 1.2081, 1.2071, 1.2041, 1.2036, 1.2014, 1.1988, 1.1988, 1.1984, 1.198, 1.1975, 1.1962, 1.196, 1.1956, 1.1926, 1.1918, 1.1918, 1.1917, 1.1853, 1.1847, 1.1836, 1.1834, 1.1829, 1.1826, 1.1801, 1.18, 1.1799, 1.1797, 1.1796, 1.178, 1.178, 1.1697, 1.177, 1.1657, 1.1675, 1.1642, 1.1669, 1.1556, 1.1603, 1.153, 1.1441, 1.0957, 1.0713, 1.1123, 1.0409, 1.0925, 0.9704, 1.0226, 0.9464, 1.0507, 0.7899, 0.9481, 1.0516, 0.9967, 1.024, 1.0354, 1.0138, 0.9406, 0.9501, 0.9948, 0.947, 0.9907, 0.6458, 0.8564, 0.5169, 0.5644, 0.4874, 0.6701, 0.0722, 0.3439, 0.4389, 1.09, 1.0879, 1.0855, 1.0821, 1.0766, 1.0743, 1.0722, 1.0683, 1.0661, 1.066, 1.0658, 1.0641, 1.0614, 1.0602, 1.0602, 1.0602, 1.0601, 1.0598, 1.0595, 1.0582, 1.0578, 1.0566, 1.0562, 1.0555, 1.0552, 1.0549, 1.0548, 1.0543, 1.052, 1.0519, 1.0482, 1.0495, 1.0451, 1.0387, 1.0227, 1.0061, 0.983, 0.99, 1.0168, 0.9954, 0.9824, 0.9333, 0.9987, 0.9311, 0.8336, 1.0299, 0.914, 0.9129, 0.8996, 0.8813, 0.8606, 0.9831, 0.9268, 0.8907, 0.7034, 0.8751, 0.96, 0.7378, 0.6593, 0.6701, 0.4324, 0.7671, 0.7729, 0.8283, 0.7392, 0.619, 0.0238, 0.4117, 0.3557, 0.4394, 0.4866, 0.3126, 0.6067, 0.0753, 0.3515, 0.0691, 0.0249, 0.3747, 0.0525, 0.2794, 2.1232, 2.115, 2.1147, 2.0962, 2.0865, 2.0835, 2.078, 2.0661, 2.0654, 2.0626, 2.0619, 2.0532, 2.0459, 2.0422, 2.0378, 2.0372, 2.0316, 2.014, 2.013, 2.0049, 1.9947, 1.993, 1.9899, 1.9867, 1.9862, 1.9844, 1.973, 1.9718, 1.9696, 1.9663, 1.9625, 1.92, 1.9447, 1.9476, 1.8525, 1.8957, 1.878, 1.8354, 1.7651, 1.8305, 1.7445, 1.7167, 1.8717, 1.4476, 1.512, 1.2937, 1.7621, 1.6305, 1.6954, 1.1804, 1.2741, 1.0722, 0.5472, 0.8838, 1.3698, 0.6423, 0.7492, 1.116, 0.902, 0.6524, 1.1173, 0.6068, 0.5111, 0.0896, 0.131, -0.0545, 2.0799, 2.0565, 2.0367, 2.0366, 2.0335, 2.0206, 2.0191, 2.0036, 2.0024, 1.9963, 1.9944, 1.9917, 1.9884, 1.9873, 1.9866, 1.9854, 1.9742, 1.9724, 1.964, 1.957, 1.957, 1.9569, 1.9427, 1.9367, 1.9357, 1.9355, 1.9275, 1.9235, 1.9156, 1.9081, 1.8983, 1.8933, 1.8493, 1.8796, 1.8619, 1.7668, 1.8647, 1.6296, 1.8002, 1.5971, 1.6824, 1.639, 1.6005, 1.6868, 1.6072, 1.2806, 1.3882, 1.7176, 1.5711, 1.3307, 1.6658, 1.5028, 1.4593, 1.4349, 1.3349, 1.5379, 1.4743, 0.8731, 0.9772, 1.1014, 0.7632, 0.6784, 0.6152, 0.7068, 1.026, 0.8388, -0.0433]}, \"token.table\": {\"Topic\": [1, 2, 3, 4, 5, 1, 2, 3, 4, 5, 1, 3, 4, 5, 1, 3, 3, 4, 1, 2, 3, 4, 5, 1, 2, 3, 5, 1, 3, 4, 4, 5, 1, 2, 4, 5, 2, 3, 5, 2, 3, 5, 1, 2, 3, 4, 5, 1, 3, 1, 2, 3, 4, 5, 4, 2, 3, 5, 1, 5, 1, 2, 3, 4, 5, 1, 2, 3, 4, 5, 2, 3, 4, 5, 2, 3, 4, 5, 4, 4, 5, 3, 4, 5, 2, 3, 4, 3, 1, 3, 3, 5, 1, 3, 4, 5, 1, 2, 3, 4, 2, 1, 3, 5, 1, 1, 2, 3, 4, 5, 1, 2, 3, 4, 5, 1, 2, 3, 4, 5, 1, 2, 3, 4, 5, 1, 2, 3, 4, 2, 3, 3, 4, 1, 2, 3, 1, 2, 4, 1, 2, 4, 5, 1, 5, 1, 2, 3, 4, 5, 2, 3, 4, 5, 2, 3, 4, 5, 2, 3, 2, 3, 4, 2, 1, 2, 3, 4, 1, 2, 3, 4, 5, 3, 4, 2, 4, 1, 2, 3, 4, 5, 3, 4, 1, 2, 3, 4, 1, 2, 3, 4, 5, 1, 2, 4, 1, 2, 3, 4, 2, 3, 4, 1, 2, 3, 4, 1, 2, 3, 5, 3, 2, 3, 4, 5, 3, 5, 1, 3, 4, 3, 5, 5, 2, 3, 4, 5, 5, 1, 4, 4, 1, 2, 1, 2, 3, 4, 5, 2, 3, 2, 3, 4, 5, 1, 2, 3, 4, 5, 1, 2, 3, 4, 2, 3, 4, 5, 3, 4, 2, 3, 4, 1, 2, 3, 4, 1, 1, 2, 3, 4, 5, 4, 3, 5, 5, 1, 3, 5, 1, 3, 4, 5, 3, 4, 3, 5, 1, 3, 4, 5, 1, 2, 3, 3, 5, 1, 2, 3, 4, 1, 3, 5, 1, 2, 3, 4, 5, 3, 5, 3, 1, 4, 1, 2, 3, 4, 5, 1, 2, 4, 5, 2, 3, 4, 1, 2, 3, 4, 3, 1, 2, 3, 1, 2, 4, 3, 1, 5, 3, 5, 1, 2, 4, 1, 5, 1, 3, 4, 1, 3, 3, 4, 5, 1, 2, 4, 1, 2, 2, 4, 1, 4, 1, 2, 3, 4, 1, 2, 3, 4, 5, 1, 5, 2, 3, 2, 4, 2, 1, 2, 3, 5, 2, 3, 4, 1, 2, 3, 4, 5, 1, 2, 3, 1, 2, 3, 5, 2, 3, 5, 2, 2, 5, 1, 2, 3, 4, 1, 1, 2, 3, 4, 5, 1, 2, 3, 4, 5, 1, 2, 3, 4, 5, 1, 2, 3, 4, 3, 5, 3, 4, 5, 1, 3, 4, 5, 1, 1, 2, 3, 3, 4, 5, 1, 2, 3, 4, 5, 3, 4, 2, 5, 2, 3, 4, 2, 5, 2, 3, 1, 2, 3, 4, 1, 2, 3, 5, 1, 2, 3, 4, 5, 1, 2, 3, 4, 5, 1, 1, 2, 3, 4, 5, 1, 3, 2, 4, 5, 1, 2, 3, 4, 5, 2, 1, 2, 3, 4, 5, 1, 2, 3, 4, 1, 2, 3, 4, 5, 1, 2, 2, 4, 2, 1, 2, 1, 2, 3, 4, 5, 3, 3, 5, 4, 1, 3, 4, 1, 4, 1, 2, 4, 5, 1, 2, 3, 4, 5, 1, 2, 3, 4, 5, 1, 2, 3, 5, 2, 3, 4, 1, 3, 3, 2, 4, 3, 1, 2, 3, 4, 5, 2, 3, 4, 2, 3, 4, 3, 1, 2, 3, 4, 5, 2, 3, 5, 2, 1, 2, 3, 4, 1, 2, 3, 4, 5, 1, 2, 3, 4, 5, 4, 4, 4, 1, 2, 1, 5, 1, 2, 2, 4, 4, 2, 2, 3, 4, 5, 1, 2, 3, 4, 5, 1, 2, 3, 4, 5, 1, 2, 3, 4, 5, 1, 2, 3, 4, 5, 2, 3, 4, 2, 3, 5, 2, 5, 1, 2, 4, 5, 2, 3, 4, 5, 1, 3, 4, 5, 1, 3, 4, 5, 3, 1, 2, 3, 5, 1, 2, 3, 5, 1, 3, 5, 3, 4, 5, 1, 2, 3, 4, 5, 4, 2, 1, 3, 5, 5, 5, 2, 5, 1, 2, 3, 5, 3, 3, 2, 3, 5, 3, 2, 3, 5, 1, 2, 3, 4, 5, 2, 1, 2, 3, 2, 3, 4, 5, 1, 2, 3, 4, 5, 1, 2, 3, 4, 5, 1, 2, 3, 4, 1, 2, 3, 4, 5, 2, 3, 4, 5, 1, 2, 3, 4, 5, 3, 3, 1, 2, 3, 4, 5, 1, 2, 3, 4, 5, 1, 2, 3, 4, 5, 1, 2, 3, 5, 1, 3, 1, 4, 1, 2, 3, 4, 2, 3, 4, 5, 1, 3, 4, 5, 2, 2, 2, 2, 5, 1, 2, 3, 4, 5, 2, 3, 1, 2, 3, 4, 5, 1, 2, 4, 5, 3, 2, 4, 2, 1, 2, 3, 4, 1, 2, 3, 4, 5, 1, 3, 1, 2, 1, 2, 3, 4, 5, 2, 3, 2, 3, 5, 5, 1, 1, 4, 1, 5, 3, 4, 5, 3, 4, 5, 1, 4, 1, 2, 3, 4, 1, 2, 3, 1, 2, 3, 4, 5, 1, 4, 3, 5, 2, 3, 2, 3, 1, 2, 3, 4, 5, 2, 3, 4, 5, 1, 2, 3, 4, 5, 1, 2, 3, 4, 1, 3, 5, 1, 2, 3, 4, 2, 3, 5, 3, 3, 2, 2, 1, 2, 4, 2, 1, 2, 3, 4, 5, 1, 2, 3, 4, 5, 1, 2, 3, 4, 5, 2, 3, 4, 1, 1, 2, 3, 4, 5, 1, 2, 3, 4, 5, 3, 4, 2, 1, 2, 3, 4, 5, 1, 2, 3, 4], \"Freq\": [0.1847098693787834, 0.010656338618006734, 0.4724310120649652, 0.03907324159935802, 0.29482536843151963, 0.3008917060398269, 0.04103068718724912, 0.485529798382448, 0.08206137437449824, 0.08889982223903976, 0.030711717111436124, 0.5912005543951454, 0.030711717111436124, 0.3455068175036564, 0.8056241646831792, 0.17513568797460416, 0.13272360076896406, 0.8627034049982663, 0.0076472659136853196, 0.030589063654741278, 0.3058906365474128, 0.0382363295684266, 0.6041340071811403, 0.007432880549851455, 0.007432880549851455, 0.8473483826830659, 0.1337918498973262, 0.7199063140069383, 0.01358313800013091, 0.2580796220024873, 0.055836482202799465, 0.8933837152447914, 0.09017268819143853, 0.0676295161435789, 0.09017268819143853, 0.7439246775793679, 0.04585955421223282, 0.12229214456595418, 0.8254719758201907, 0.04066391928613691, 0.04066391928613691, 0.8539423050088751, 0.43422336580555, 0.33553623721337955, 0.11842455431060454, 0.07894970287373637, 0.039474851436868186, 0.7826008524080297, 0.21343659611128082, 0.030411123863280425, 0.2508917718720635, 0.501783543744127, 0.07602780965820106, 0.144452838350582, 0.8523338523627031, 0.06702215101383048, 0.9047990386867114, 0.03351107550691524, 0.9604842125318661, 0.9420018529266079, 0.3850993241844735, 0.02750709458460525, 0.36446900324601955, 0.2063032093845394, 0.020630320938453937, 0.5211886079224337, 0.010022857844662187, 0.4009143137864875, 0.020045715689324374, 0.05011428922331094, 0.05233810679148803, 0.05233810679148803, 0.8897478154552965, 0.017446035597162676, 0.024553725196751936, 0.12276862598375968, 0.024553725196751936, 0.8102729314928139, 0.9484200670127926, 0.8782468867283147, 0.06273192048059391, 0.08502917525404029, 0.8077771649133827, 0.042514587627020144, 0.8461809122683636, 0.1438507550856218, 0.008461809122683637, 0.9672945232721961, 0.9049986121264784, 0.9644269384887891, 0.09903875634561919, 0.8583358883286997, 0.3595409656194595, 0.16722835610207418, 0.10869843146634821, 0.3595409656194595, 0.0489064576147596, 0.8314097794509132, 0.08151076269126599, 0.0326043050765064, 0.9784285006903952, 0.8504792481967001, 0.068038339855736, 0.068038339855736, 0.905701933199273, 0.2973595114219587, 0.27560149839108367, 0.22483280131904193, 0.15955876222641685, 0.04351602606175005, 0.2648025522035188, 0.5359099270785499, 0.13870609877327172, 0.05043858137209881, 0.018914468014537056, 0.03199412713939213, 0.13864121760403256, 0.8105178875312672, 0.021329418092928085, 0.9419634377606111, 0.06263339446882854, 0.034163669710270114, 0.6149460547848621, 0.27900330263387263, 0.005693944951711686, 0.7644409017746309, 0.07166633454137165, 0.11944389090228608, 0.023888778180457215, 0.02489349308172927, 0.9459527371057121, 0.9616563588680713, 0.03005176121462723, 0.04870995383257517, 0.9376666112770721, 0.012177488458143792, 0.059162658806843606, 0.059162658806843606, 0.8677189958337063, 0.03078816915050859, 0.2052544610033906, 0.23604263015389917, 0.5233988755586461, 0.8135119471207536, 0.16270238942415072, 0.004709463856396392, 0.13186498797909899, 0.6404870844699093, 0.07535142170234227, 0.14599337954828814, 0.819082025594841, 0.06825683546623675, 0.0558465017451028, 0.0558465017451028, 0.12024744544908576, 0.1503093068113572, 0.06012372272454288, 0.6613609499699717, 0.03292866005641634, 0.954931141636074, 0.19188808626787007, 0.1279253908452467, 0.6716083019375453, 0.9406470042653444, 0.013122201983118064, 0.10497761586494452, 0.8398209269195561, 0.03936660594935419, 0.16184305939294225, 0.18342213397866788, 0.2697384323215704, 0.35605473066447296, 0.03236861187858845, 0.1462092642472759, 0.8041509533600174, 0.9829234520171175, 0.9126200639295152, 0.023163985391746314, 0.1853118831339705, 0.6717555763606431, 0.05559356494019116, 0.06022636201854042, 0.10625657999656038, 0.850052639972483, 0.07492803129952642, 0.04995202086635094, 0.08741603651611415, 0.7867443286450274, 0.02737353951078895, 0.33760698729973043, 0.14599221072420776, 0.49272371119420116, 0.9636318579612994, 0.04437906157415103, 0.9319602930571717, 0.01479302052471701, 0.008071154011884631, 0.20985000430900042, 0.40355770059423157, 0.37127308454669306, 0.31987166248224247, 0.031987166248224244, 0.6397433249644849, 0.07041860509129695, 0.7583542086755056, 0.1408372101825939, 0.02708407888126806, 0.027874045517326328, 0.055748091034652655, 0.3484255689665791, 0.5714179331051897, 0.9611329647034484, 0.009011807914550259, 0.8290863281386237, 0.14418892663280414, 0.018023615829100517, 0.05877719706322743, 0.8816579559484115, 0.9180076798812329, 0.04590038399406164, 0.9473916243242662, 0.9098236683119719, 0.09477329878249707, 0.9902362038375708, 0.03521582112600456, 0.37563542534404865, 0.03521582112600456, 0.5517145309740714, 0.907871603211254, 0.16824891694732264, 0.8412445847366131, 0.8868784673525841, 0.8929402534789456, 0.08117638667990415, 0.3963344857811181, 0.01723193416439644, 0.19816724289055904, 0.025847901246594657, 0.36187061745232524, 0.9586268601524908, 0.03759321020205846, 0.0355682368293456, 0.4031066840659169, 0.011856078943115201, 0.533523552440184, 0.034876752100414986, 0.16740841008199192, 0.27203866638323687, 0.15345770924182592, 0.3696935722643988, 0.03799710109178443, 0.06649492691062277, 0.8169376734733653, 0.07599420218356887, 0.04579535155168704, 0.8243163279303667, 0.04579535155168704, 0.07327256248269927, 0.1250098863724982, 0.8750692046074874, 0.02617340650982993, 0.9422426343538775, 0.9473858099416043, 0.4351667197909185, 0.1450555732636395, 0.24866669702338198, 0.16577779801558798, 0.880098249582394, 0.056341014612972605, 0.48055571287535453, 0.2651341864139887, 0.0729119012638469, 0.12593873854664464, 0.9129952263571245, 0.9722186778709847, 0.016203644631183078, 0.9265468913965949, 0.01888186974149997, 0.692335223854999, 0.2832280461224996, 0.1609172824798472, 0.1340977353998727, 0.6704886769993634, 0.013409773539987268, 0.11171099405773513, 0.8378324554330135, 0.9320709551508866, 0.06013361000973462, 0.23072206373642093, 0.29091042818940027, 0.015047091113244843, 0.46645982451059015, 0.008078942248602672, 0.9775520120809233, 0.016157884497205344, 0.8922548952906701, 0.10238990601696214, 0.19870837853413165, 0.7607692206735326, 0.02270952897532933, 0.017032146731497, 0.9051898637504997, 0.03017299545834999, 0.03017299545834999, 0.019512802061124813, 0.25366642679462253, 0.019512802061124813, 0.039025604122249626, 0.6439224680171188, 0.9470920702979299, 0.0498469510683121, 0.9842809705743745, 0.12535474297964772, 0.8148058293677102, 0.8570185573977364, 0.06592450441521049, 0.1757863804950166, 0.04394659512375415, 0.7910387122275747, 0.010253127653309803, 0.9432877441045018, 0.04101251061323921, 0.9417103703732407, 0.018626653540418796, 0.8940793699401023, 0.09313326770209399, 0.19398103684108822, 0.46555448841861174, 0.054314690315504704, 0.2870919345248106, 0.9672936314729227, 0.010239362703344506, 0.9727394568177281, 0.010239362703344506, 0.8324644126015948, 0.06403572404627653, 0.09605358606941478, 0.9672929165371814, 0.08152320343348916, 0.8152320343348917, 0.8062879508582795, 0.1949267573503533, 0.8339734041753487, 0.05559822694502325, 0.1111964538900465, 0.7927270355033703, 0.0880807817225967, 0.8162757314885047, 0.0480162194993238, 0.0960324389986476, 0.8683853908005222, 0.06202752791432301, 0.13585193751598681, 0.6249189125735393, 0.21736310002557888, 0.15214538722651036, 0.030429077445302075, 0.821585091023156, 0.8163388027896201, 0.1580010586044426, 0.15178553467764466, 0.8095228516141049, 0.04638028972045059, 0.9276057944090118, 0.014386649305960165, 0.9207455555814505, 0.014386649305960165, 0.04315994791788049, 0.029675847595936302, 0.03462182219525902, 0.6479226725112759, 0.07418961898984075, 0.21267690777087683, 0.08830932516928194, 0.7947839265235376, 0.06962264302373071, 0.9283019069830761, 0.9688442962082995, 0.022019188550188626, 0.9864471235902946, 0.06040513816622169, 0.8154693652439929, 0.10570899179088797, 0.022651926812333138, 0.18917441644692193, 0.03783488328938439, 0.7566976657876877, 0.20278202427471442, 0.49387234944325614, 0.18315795740941948, 0.1079323677591222, 0.009812033432647473, 0.006845748224709819, 0.9515590032346648, 0.041074489348258914, 0.014511931024561801, 0.03990781031754495, 0.45349784451755626, 0.49340565483510124, 0.03459378594833092, 0.9513291135791003, 0.9080429447470988, 0.9716928431188483, 0.978427583545015, 0.9087844018547764, 0.7167625394393544, 0.21502876183180633, 0.04778416929595696, 0.02389208464797848, 0.9650813389441565, 0.27038651931284413, 0.22914111806173232, 0.3437116770925985, 0.10998773666963152, 0.04124540125111182, 0.08663356062675696, 0.4181010969378271, 0.3503009190560173, 0.12430032611665129, 0.018833382744947166, 0.2029303590110627, 0.45767272457814145, 0.28496603605808807, 0.030223670491009342, 0.025906003278008006, 0.6549061100730909, 0.029768459548776858, 0.07442114887194215, 0.2530319061646033, 0.0705046443086934, 0.8813080538586674, 0.027178482288132435, 0.05435696457626487, 0.8968899155083704, 0.07138858578568011, 0.7648777048465726, 0.12238043277545162, 0.04079347759181721, 0.8798668393239614, 0.7737190233258016, 0.02763282226163577, 0.1934297558314504, 0.04949308114976423, 0.7176496766715813, 0.22271886517393902, 0.016423711224831748, 0.08211855612415873, 0.7883381387919238, 0.04105927806207937, 0.07390670051174286, 0.5358080961219145, 0.4465067467682621, 0.05047827557220831, 0.9590872358719579, 0.2730982153585032, 0.7130897845472028, 0.0075860615377362, 0.9792936654143115, 0.013792868526962133, 0.9445762514076902, 0.04445064712506777, 0.04203115062082078, 0.8353691185888129, 0.08406230124164156, 0.03677725679321818, 0.042633207422089675, 0.028422138281393117, 0.8810862867231866, 0.042633207422089675, 0.29400061788657794, 0.16100033836645933, 0.16800035307804453, 0.1890003972128001, 0.1890003972128001, 0.04969276843189142, 0.8012958909642491, 0.062115960539864276, 0.08075074870182355, 0.012423192107972854, 0.9244384397428778, 0.08233017355999808, 0.7986026835319814, 0.05763112149199866, 0.05763112149199866, 0.008233017355999808, 0.8684348653447467, 0.062031061810339044, 0.06659024964303939, 0.8878699952405252, 0.044393499762026264, 0.1245497349769129, 0.6974785158707122, 0.06227486748845645, 0.10586727473037597, 0.018682460246536935, 0.9829207893271965, 0.10166446290234744, 0.7624834717676058, 0.06354028931396714, 0.05083223145117372, 0.02118009643798905, 0.12057593561985744, 0.8621179396819807, 0.006028796780992871, 0.006028796780992871, 0.09175662730360885, 0.007646385608634071, 0.6958210903857005, 0.09940301291224292, 0.107049398520877, 0.01175481342345294, 0.9756495141465941, 0.9355099377905226, 0.05011660381020657, 0.9802293642320127, 0.8499039082734744, 0.1359846253237559, 0.010690953474381634, 0.759057696681096, 0.17461890674823335, 0.03920016273939932, 0.014254604632508846, 0.9611387113323315, 0.9515800873378512, 0.02320927042287442, 0.9024379969817345, 0.6819572059148234, 0.17536042437809746, 0.13639144118296467, 0.11841610476203272, 0.8289127333342291, 0.12991535644661514, 0.059960933744591605, 0.029980466872295802, 0.7794921386796908, 0.028498061517185824, 0.05699612303437165, 0.5200896226886412, 0.3348522228269334, 0.05699612303437165, 0.06774923467332204, 0.35959209172763235, 0.2553624999225215, 0.24493954074201044, 0.07296071426357759, 0.11502838689993006, 0.008216313349995005, 0.41081566749975024, 0.46832986094971524, 0.4926535622037419, 0.0923725429132016, 0.4105446351697849, 0.8003702970162125, 0.1750810024722965, 0.9574835612393241, 0.8822453304812622, 0.11417292512110451, 0.9776537388105501, 0.007792591114752458, 0.31689870533326664, 0.3584591912786131, 0.20000983861197977, 0.11688886672128687, 0.2588606217690312, 0.006723652513481329, 0.7328781239694648, 0.16554166141391674, 0.0662166645655667, 0.7614916425040169, 0.9745989226472478, 0.2658822927168664, 0.04198141463950522, 0.47112476428778083, 0.11195043903868059, 0.1072858374120689, 0.06405949310904845, 0.2178022765707647, 0.7174663228213426, 0.963101796681569, 0.046477762648441945, 0.7635632435101176, 0.11951424681027928, 0.06639680378348849, 0.299297290682643, 0.06569940527179967, 0.37959656379262036, 0.1824983479772213, 0.07299933919088852, 0.027822640783476495, 0.7790339419373419, 0.07949325938136141, 0.10731590016483791, 0.007949325938136142, 0.9701476914187424, 0.9473602303619111, 0.9484136130613685, 0.9118608235039539, 0.04799267492126073, 0.08151291072441083, 0.8966420179685191, 0.8626553616897749, 0.09585059574330831, 0.059131439626337795, 0.886971594395067, 0.8884687713897479, 0.9605679406285286, 0.16594952199541152, 0.1382912683295096, 0.02765825366590192, 0.6637980879816461, 0.07935708736998082, 0.5177105223660653, 0.2758603513337428, 0.011336726767140115, 0.11336726767140116, 0.16939664175812516, 0.3493805736261331, 0.23292038241742208, 0.22233309230753925, 0.026468225274707054, 0.10708339105755563, 0.049423103565025675, 0.7166350016928723, 0.024711551782512838, 0.09884620713005135, 0.49741436188736476, 0.03730607714155235, 0.3357546942739712, 0.012435359047184118, 0.12435359047184119, 0.21161431249526969, 0.04232286249905394, 0.719488662483917, 0.05337222865446192, 0.3309078176576639, 0.6084434066608659, 0.13227733520669518, 0.793664011240171, 0.6128851281020666, 0.09128076375988227, 0.013040109108554609, 0.2868824003882014, 0.15748612881615762, 0.7639752631932752, 0.033507686982161194, 0.04355999307680955, 0.16390322616608755, 0.5175891352613291, 0.056072156319977313, 0.2631078104245089, 0.018906801908416485, 0.05672040572524946, 0.018906801908416485, 0.8886196896955748, 0.9744399170800663, 0.03068037851803665, 0.0204535856786911, 0.910184562701754, 0.0409071713573822, 0.7353035410550545, 0.021008672601572985, 0.16806938081258388, 0.04201734520314597, 0.37727388549721563, 0.37727388549721563, 0.2368929048470889, 0.1266239224822386, 0.0422079741607462, 0.8019515090541778, 0.06459196627465873, 0.014905838371075092, 0.5415787941490616, 0.054654740693942, 0.327928444163652, 0.8885033605386126, 0.9911598447263705, 0.8881606318260028, 0.08326505923368777, 0.027755019744562587, 0.954527304513793, 0.9635992052897319, 0.11757056629527138, 0.8229939640668996, 0.011046506083230838, 0.022093012166461676, 0.7953484379926203, 0.16569759124846256, 0.9704960858298812, 0.9722827061717101, 0.14707044588844076, 0.16808050958678944, 0.6933321020455064, 0.9744313233226883, 0.01137644037933365, 0.8873623495880246, 0.0910115230346692, 0.12687554189508884, 0.5779885797442936, 0.1691673891934518, 0.07988460045246336, 0.0469909414426255, 0.9829272400055118, 0.8157177090052167, 0.1699411893760868, 0.9699777034068056, 0.6497983267739503, 0.34060995465326993, 0.005027453205214316, 0.003770589903910737, 0.008335574192829813, 0.03334229677131925, 0.841892993475811, 0.016671148385659626, 0.10002689031395774, 0.0557188664252213, 0.9026456360885851, 0.01114377328504426, 0.02228754657008852, 0.01114377328504426, 0.011627694443123672, 0.31976159718590097, 0.4592939305033851, 0.2092984999762261, 0.010965326071921008, 0.08772260857536807, 0.47150902109260334, 0.35089043430147226, 0.08772260857536807, 0.0412628133181169, 0.2970922558904417, 0.03301025065449352, 0.6354473250990003, 0.060486723853708395, 0.060486723853708395, 0.18146017156112518, 0.10887610293667511, 0.5927698937663423, 0.9643865844781498, 0.9875533641113934, 0.16540305163609825, 0.06810713890898164, 0.4378316072720248, 0.08270152581804913, 0.24810457745414738, 0.031620038938840245, 0.010540012979613414, 0.42160051918453656, 0.02108002595922683, 0.5164606360010573, 0.22052000416155693, 0.22052000416155693, 0.3039600057362001, 0.19072000359918437, 0.06556000123721963, 0.015896887698707188, 0.04769066309612157, 0.06358755079482875, 0.8663803795795418, 0.9536094324049591, 0.03405747972874854, 0.9065991095395372, 0.06043994063596914, 0.017577816062136712, 0.1406225284970937, 0.17577816062136714, 0.6503791942990584, 0.027916077064253628, 0.13958038532126812, 0.8095662348633552, 0.027916077064253628, 0.8833752587600239, 0.038407619946088, 0.038407619946088, 0.019203809973044, 0.9716921472826149, 0.9605663554602064, 0.9405502978255134, 0.9405412038041122, 0.9079691208422221, 0.012256500217252443, 0.010213750181043703, 0.5127302590883939, 0.022470250398296147, 0.44123400782108796, 0.05103951332096246, 0.9442309964378055, 0.006010068133164104, 0.02704530659923847, 0.35459401985668215, 0.006010068133164104, 0.6070168814495746, 0.6978850825109365, 0.11915111164820867, 0.017021587378315526, 0.15319428640483973, 0.9744339438438205, 0.9526379848539548, 0.04141904281973716, 0.9798651476084812, 0.0137470039408237, 0.1237230354674133, 0.1099760315265896, 0.7560852167453035, 0.014160771260907508, 0.042482313782722526, 0.3681800527835952, 0.5239485366535778, 0.042482313782722526, 0.8413569826964887, 0.15775443425559163, 0.905157783284886, 0.944594720238994, 0.302226738325723, 0.03514264399136314, 0.30925526712399565, 0.13354204716717993, 0.2249129215447241, 0.9544293312441651, 0.019883944400920107, 0.9446022199783531, 0.9869683295205797, 0.011027579100788599, 0.9079169221671674, 0.9714381734269592, 0.8463459395714437, 0.1410576565952406, 0.1324920275544656, 0.8391161745116155, 0.8743890607343138, 0.1008910454693439, 0.016815174244890648, 0.9866111350944118, 0.9323344720268262, 0.8971051338798673, 0.14208135009655043, 0.8524881005793026, 0.03001060189667617, 0.8252915521585946, 0.09003180569002851, 0.0525185533191833, 0.02870697937416376, 0.8827396157555356, 0.08612093812249128, 0.008342502160663116, 0.8425927182269748, 0.09176752376729429, 0.02502750648198935, 0.02502750648198935, 0.8811942001312614, 0.08811942001312614, 0.18158522663729998, 0.79897499720412, 0.026858860969550483, 0.9669189949038174, 0.02550962944890727, 0.9693659190584762, 0.0033322156888432133, 0.026657725510745706, 0.33988600026200777, 0.0033322156888432133, 0.6264565495025242, 0.024202902341255945, 0.5485991197351348, 0.419516973915103, 0.00806763411375198, 0.3915154297197344, 0.10282223406780903, 0.13841454586051216, 0.12259574061931076, 0.24123677992832118, 0.7365515835081523, 0.07891624109015917, 0.10522165478687891, 0.07891624109015917, 0.04707388716989026, 0.04707388716989026, 0.8944038562279151, 0.0914990084022192, 0.0457495042011096, 0.2744970252066576, 0.5947435546144247, 0.03523950080861297, 0.916227021023937, 0.03523950080861297, 0.9574769899823166, 0.97243646110985, 0.9829182811682168, 0.9920346574059898, 0.028362232368681732, 0.950134784350838, 0.014181116184340866, 0.9824863653261956, 0.47179836199807784, 0.29177003965670606, 0.06207873184185235, 0.031039365920926175, 0.1427810832362604, 0.17937804472303973, 0.5637595691295535, 0.14643105691676714, 0.0841978577271411, 0.02562543496043425, 0.02646257293118451, 0.35989099186410933, 0.4816188273475581, 0.12702035006968565, 0.005292514586236903, 0.9617373889594616, 0.007341506785950088, 0.036707533929750444, 0.9394107212907978, 0.24455957286145574, 0.20962249102410493, 0.2833785526807344, 0.21738628698796067, 0.04270087780120656, 0.003943164126078272, 0.37854375610351415, 0.26024883232116597, 0.13012441616058298, 0.2287035193125398, 0.9457961843703306, 0.037831847374813224, 0.9850426285038305, 0.0067913899910976554, 0.1697847497774414, 0.611225099198789, 0.1562019697952461, 0.0611225099198789, 0.01485735009056549, 0.7948682298452536, 0.01485735009056549, 0.17085952604150312], \"Term\": [\"000\", \"000\", \"000\", \"000\", \"000\", \"10\", \"10\", \"10\", \"10\", \"10\", \"1960\", \"1960\", \"1960\", \"1960\", \"36\", \"36\", \"academy\", \"academy\", \"act\", \"act\", \"act\", \"act\", \"act\", \"administration\", \"administration\", \"administration\", \"administration\", \"af\", \"af\", \"af\", \"africa\", \"africa\", \"agencies\", \"agencies\", \"agencies\", \"agencies\", \"agreement\", \"agreement\", \"agreement\", \"agricultural\", \"agricultural\", \"agricultural\", \"air\", \"air\", \"air\", \"air\", \"air\", \"aircraft\", \"aircraft\", \"american\", \"american\", \"american\", \"american\", \"american\", \"ann\", \"anti\", \"anti\", \"anti\", \"apparatus\", \"appropriated\", \"area\", \"area\", \"area\", \"area\", \"area\", \"areas\", \"areas\", \"areas\", \"areas\", \"areas\", \"art\", \"art\", \"art\", \"art\", \"article\", \"article\", \"article\", \"article\", \"artist\", \"artists\", \"artists\", \"arts\", \"arts\", \"arts\", \"asked\", \"asked\", \"asked\", \"assessment\", \"attractions\", \"audience\", \"authorized\", \"authorized\", \"available\", \"available\", \"available\", \"available\", \"away\", \"away\", \"away\", \"away\", \"baby\", \"bars\", \"bars\", \"bars\", \"battery\", \"best\", \"best\", \"best\", \"best\", \"best\", \"better\", \"better\", \"better\", \"better\", \"better\", \"bill\", \"bill\", \"bill\", \"bill\", \"bloc\", \"board\", \"board\", \"board\", \"board\", \"board\", \"boat\", \"boat\", \"boat\", \"boat\", \"boats\", \"boats\", \"bonds\", \"bonds\", \"boy\", \"boy\", \"boy\", \"bridge\", \"bridge\", \"bridge\", \"brown\", \"brown\", \"brown\", \"brown\", \"builder\", \"builder\", \"business\", \"business\", \"business\", \"business\", \"business\", \"came\", \"came\", \"came\", \"came\", \"cars\", \"cars\", \"cars\", \"cars\", \"castro\", \"castro\", \"catholic\", \"catholic\", \"catholic\", \"cattle\", \"cent\", \"cent\", \"cent\", \"cent\", \"center\", \"center\", \"center\", \"center\", \"center\", \"chamber\", \"chamber\", \"charlie\", \"chef\", \"city\", \"city\", \"city\", \"city\", \"city\", \"clarity\", \"clarity\", \"clay\", \"clay\", \"clay\", \"clay\", \"club\", \"club\", \"club\", \"club\", \"coalition\", \"cold\", \"cold\", \"cold\", \"college\", \"college\", \"college\", \"college\", \"color\", \"color\", \"color\", \"come\", \"come\", \"come\", \"come\", \"commission\", \"commission\", \"commission\", \"commission\", \"commissioner\", \"committee\", \"committee\", \"committee\", \"committee\", \"commodities\", \"commodities\", \"components\", \"components\", \"concerts\", \"conference\", \"conference\", \"congo\", \"congress\", \"congress\", \"congress\", \"congress\", \"consequence\", \"contemporary\", \"contemporary\", \"convey\", \"cooling\", \"cooling\", \"cost\", \"cost\", \"cost\", \"cost\", \"cost\", \"couldn\", \"couldn\", \"countries\", \"countries\", \"countries\", \"countries\", \"country\", \"country\", \"country\", \"country\", \"country\", \"county\", \"county\", \"county\", \"county\", \"court\", \"court\", \"court\", \"court\", \"creative\", \"creative\", \"cuba\", \"cuba\", \"curriculum\", \"cut\", \"cut\", \"cut\", \"cut\", \"cycle\", \"day\", \"day\", \"day\", \"day\", \"day\", \"decorations\", \"democratic\", \"democratic\", \"demonstrated\", \"department\", \"department\", \"department\", \"design\", \"design\", \"design\", \"design\", \"designer\", \"designer\", \"despite\", \"despite\", \"development\", \"development\", \"development\", \"development\", \"didn\", \"didn\", \"didn\", \"district\", \"district\", \"don\", \"don\", \"don\", \"don\", \"drill\", \"drill\", \"drill\", \"editor\", \"editor\", \"editor\", \"editor\", \"editor\", \"eisenhower\", \"eisenhower\", \"election\", \"entertainment\", \"entertainment\", \"experiments\", \"experiments\", \"export\", \"export\", \"export\", \"eyes\", \"eyes\", \"eyes\", \"facility\", \"faculty\", \"faculty\", \"faculty\", \"family\", \"family\", \"family\", \"family\", \"farmers\", \"feed\", \"feed\", \"feed\", \"fig\", \"fig\", \"fig\", \"filing\", \"financed\", \"financed\", \"fiscal\", \"fiscal\", \"fishing\", \"fishing\", \"fishing\", \"flexibility\", \"flexibility\", \"forest\", \"forest\", \"forest\", \"forests\", \"forests\", \"formula\", \"formula\", \"formula\", \"foundation\", \"foundation\", \"foundation\", \"frame\", \"frame\", \"furniture\", \"furniture\", \"gallery\", \"gallery\", \"gave\", \"gave\", \"gave\", \"gave\", \"general\", \"general\", \"general\", \"general\", \"general\", \"generations\", \"generations\", \"georgia\", \"georgia\", \"girl\", \"girl\", \"god\", \"going\", \"going\", \"going\", \"going\", \"golf\", \"golf\", \"golf\", \"good\", \"good\", \"good\", \"good\", \"good\", \"got\", \"got\", \"got\", \"government\", \"government\", \"government\", \"government\", \"governor\", \"governor\", \"greece\", \"hadn\", \"hair\", \"hammarskjold\", \"heat\", \"heat\", \"heat\", \"heat\", \"heating\", \"high\", \"high\", \"high\", \"high\", \"high\", \"home\", \"home\", \"home\", \"home\", \"home\", \"house\", \"house\", \"house\", \"house\", \"house\", \"inch\", \"inch\", \"inch\", \"inch\", \"independence\", \"independence\", \"india\", \"india\", \"india\", \"industry\", \"industry\", \"industry\", \"industry\", \"inexpensive\", \"interference\", \"interference\", \"interference\", \"interior\", \"interior\", \"interior\", \"island\", \"island\", \"island\", \"island\", \"island\", \"jr\", \"jr\", \"katanga\", \"katanga\", \"kennedy\", \"kennedy\", \"kennedy\", \"khrushchev\", \"khrushchev\", \"knew\", \"knew\", \"know\", \"know\", \"know\", \"know\", \"labor\", \"labor\", \"labor\", \"labor\", \"large\", \"large\", \"large\", \"large\", \"large\", \"left\", \"left\", \"left\", \"left\", \"left\", \"lengths\", \"let\", \"let\", \"let\", \"let\", \"let\", \"lever\", \"lever\", \"library\", \"library\", \"library\", \"life\", \"life\", \"life\", \"life\", \"life\", \"listening\", \"little\", \"little\", \"little\", \"little\", \"little\", \"ll\", \"ll\", \"ll\", \"ll\", \"local\", \"local\", \"local\", \"local\", \"local\", \"looked\", \"looked\", \"love\", \"love\", \"loved\", \"lumber\", \"lumber\", \"man\", \"man\", \"man\", \"man\", \"man\", \"managers\", \"marketing\", \"marketing\", \"masters\", \"materials\", \"materials\", \"materials\", \"measuring\", \"measuring\", \"medical\", \"medical\", \"medical\", \"medical\", \"members\", \"members\", \"members\", \"members\", \"members\", \"men\", \"men\", \"men\", \"men\", \"men\", \"military\", \"military\", \"military\", \"military\", \"miss\", \"miss\", \"miss\", \"missile\", \"missile\", \"missouri\", \"mother\", \"mother\", \"motors\", \"mr\", \"mr\", \"mr\", \"mr\", \"mr\", \"mrs\", \"mrs\", \"mrs\", \"music\", \"music\", \"music\", \"musical\", \"national\", \"national\", \"national\", \"national\", \"national\", \"nations\", \"nations\", \"nations\", \"nice\", \"night\", \"night\", \"night\", \"night\", \"number\", \"number\", \"number\", \"number\", \"number\", \"old\", \"old\", \"old\", \"old\", \"old\", \"orchestra\", \"oriental\", \"orleans\", \"outdoor\", \"outdoor\", \"overseas\", \"overseas\", \"package\", \"package\", \"painted\", \"painted\", \"painter\", \"pale\", \"peace\", \"peace\", \"peace\", \"peace\", \"people\", \"people\", \"people\", \"people\", \"people\", \"place\", \"place\", \"place\", \"place\", \"place\", \"plan\", \"plan\", \"plan\", \"plan\", \"plan\", \"plant\", \"plant\", \"plant\", \"plant\", \"plant\", \"player\", \"player\", \"player\", \"policy\", \"policy\", \"policy\", \"politicians\", \"politicians\", \"pool\", \"pool\", \"pool\", \"pool\", \"president\", \"president\", \"president\", \"president\", \"program\", \"program\", \"program\", \"program\", \"projects\", \"projects\", \"projects\", \"projects\", \"promotion\", \"property\", \"property\", \"property\", \"property\", \"protection\", \"protection\", \"protection\", \"protection\", \"provide\", \"provide\", \"provide\", \"provisions\", \"provisions\", \"provisions\", \"public\", \"public\", \"public\", \"public\", \"public\", \"ray\", \"rayburn\", \"recreation\", \"recreation\", \"recreation\", \"rehabilitation\", \"relating\", \"relevant\", \"relevant\", \"report\", \"report\", \"report\", \"report\", \"republican\", \"republicans\", \"respect\", \"respect\", \"respect\", \"revenues\", \"rhode\", \"rhode\", \"rhode\", \"right\", \"right\", \"right\", \"right\", \"right\", \"rome\", \"roof\", \"roof\", \"rural\", \"said\", \"said\", \"said\", \"said\", \"sales\", \"sales\", \"sales\", \"sales\", \"sales\", \"saw\", \"saw\", \"saw\", \"saw\", \"saw\", \"school\", \"school\", \"school\", \"school\", \"schools\", \"schools\", \"schools\", \"schools\", \"schools\", \"secretary\", \"secretary\", \"secretary\", \"secretary\", \"section\", \"section\", \"section\", \"section\", \"section\", \"selling\", \"sen\", \"service\", \"service\", \"service\", \"service\", \"service\", \"services\", \"services\", \"services\", \"services\", \"services\", \"set\", \"set\", \"set\", \"set\", \"set\", \"shall\", \"shall\", \"shall\", \"shall\", \"shelter\", \"shelter\", \"shooting\", \"shooting\", \"sign\", \"sign\", \"sign\", \"sign\", \"signs\", \"signs\", \"signs\", \"signs\", \"site\", \"site\", \"site\", \"site\", \"sitting\", \"smiled\", \"snow\", \"somebody\", \"soviets\", \"state\", \"state\", \"state\", \"state\", \"state\", \"statement\", \"statement\", \"states\", \"states\", \"states\", \"states\", \"states\", \"stations\", \"stations\", \"stations\", \"stations\", \"stockholders\", \"stood\", \"stood\", \"stopped\", \"student\", \"student\", \"student\", \"student\", \"students\", \"students\", \"students\", \"students\", \"students\", \"super\", \"super\", \"surfaces\", \"surprised\", \"system\", \"system\", \"system\", \"system\", \"system\", \"talk\", \"talk\", \"talked\", \"tax\", \"tax\", \"technicians\", \"temperature\", \"temperatures\", \"temperatures\", \"testing\", \"testing\", \"texas\", \"texas\", \"texas\", \"textile\", \"texture\", \"thereof\", \"thickness\", \"thickness\", \"think\", \"think\", \"think\", \"think\", \"thought\", \"thought\", \"thought\", \"took\", \"took\", \"took\", \"took\", \"took\", \"trap\", \"trap\", \"treasury\", \"treasury\", \"trial\", \"trial\", \"trust\", \"trust\", \"united\", \"united\", \"united\", \"united\", \"united\", \"university\", \"university\", \"university\", \"university\", \"use\", \"use\", \"use\", \"use\", \"use\", \"vacation\", \"vacation\", \"vacation\", \"vacation\", \"vehicles\", \"vehicles\", \"vehicles\", \"volume\", \"volume\", \"volume\", \"volume\", \"vote\", \"vote\", \"vote\", \"voters\", \"wages\", \"waited\", \"walked\", \"wanted\", \"wanted\", \"wanted\", \"wasn\", \"water\", \"water\", \"water\", \"water\", \"water\", \"way\", \"way\", \"way\", \"way\", \"way\", \"week\", \"week\", \"week\", \"week\", \"week\", \"went\", \"went\", \"went\", \"wildlife\", \"work\", \"work\", \"work\", \"work\", \"work\", \"world\", \"world\", \"world\", \"world\", \"world\", \"yankees\", \"yankees\", \"yes\", \"york\", \"york\", \"york\", \"york\", \"york\", \"young\", \"young\", \"young\", \"young\"]}, \"R\": 30, \"lambda.step\": 0.01, \"plot.opts\": {\"xlab\": \"PC1\", \"ylab\": \"PC2\"}, \"topic.order\": [1, 2, 3, 4, 5]};\n",
       "\n",
       "function LDAvis_load_lib(url, callback){\n",
       "  var s = document.createElement('script');\n",
       "  s.src = url;\n",
       "  s.async = true;\n",
       "  s.onreadystatechange = s.onload = callback;\n",
       "  s.onerror = function(){console.warn(\"failed to load library \" + url);};\n",
       "  document.getElementsByTagName(\"head\")[0].appendChild(s);\n",
       "}\n",
       "\n",
       "if(typeof(LDAvis) !== \"undefined\"){\n",
       "   // already loaded: just create the visualization\n",
       "   !function(LDAvis){\n",
       "       new LDAvis(\"#\" + \"ldavis_el19491405679285719365161640344\", ldavis_el19491405679285719365161640344_data);\n",
       "   }(LDAvis);\n",
       "}else if(typeof define === \"function\" && define.amd){\n",
       "   // require.js is available: use it to load d3/LDAvis\n",
       "   require.config({paths: {d3: \"https://d3js.org/d3.v5\"}});\n",
       "   require([\"d3\"], function(d3){\n",
       "      window.d3 = d3;\n",
       "      LDAvis_load_lib(\"https://cdn.jsdelivr.net/gh/bmabey/pyLDAvis@3.4.0/pyLDAvis/js/ldavis.v3.0.0.js\", function(){\n",
       "        new LDAvis(\"#\" + \"ldavis_el19491405679285719365161640344\", ldavis_el19491405679285719365161640344_data);\n",
       "      });\n",
       "    });\n",
       "}else{\n",
       "    // require.js not available: dynamically load d3 & LDAvis\n",
       "    LDAvis_load_lib(\"https://d3js.org/d3.v5.js\", function(){\n",
       "         LDAvis_load_lib(\"https://cdn.jsdelivr.net/gh/bmabey/pyLDAvis@3.4.0/pyLDAvis/js/ldavis.v3.0.0.js\", function(){\n",
       "                 new LDAvis(\"#\" + \"ldavis_el19491405679285719365161640344\", ldavis_el19491405679285719365161640344_data);\n",
       "            })\n",
       "         });\n",
       "}\n",
       "</script>"
      ],
      "text/plain": [
       "<IPython.core.display.HTML object>"
      ]
     },
     "execution_count": 25,
     "metadata": {},
     "output_type": "execute_result"
    }
   ],
   "source": [
    "pyLDAvis.display(lda_display)"
   ]
  },
  {
   "cell_type": "code",
   "execution_count": null,
   "id": "0bf8f7ce",
   "metadata": {},
   "outputs": [],
   "source": []
  },
  {
   "cell_type": "code",
   "execution_count": null,
   "id": "f9d29b10",
   "metadata": {},
   "outputs": [],
   "source": []
  }
 ],
 "metadata": {
  "kernelspec": {
   "display_name": "Python 3 (ipykernel)",
   "language": "python",
   "name": "python3"
  },
  "language_info": {
   "codemirror_mode": {
    "name": "ipython",
    "version": 3
   },
   "file_extension": ".py",
   "mimetype": "text/x-python",
   "name": "python",
   "nbconvert_exporter": "python",
   "pygments_lexer": "ipython3",
   "version": "3.10.9"
  }
 },
 "nbformat": 4,
 "nbformat_minor": 5
}
